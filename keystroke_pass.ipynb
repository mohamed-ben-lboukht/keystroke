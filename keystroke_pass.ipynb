{
  "nbformat": 4,
  "nbformat_minor": 0,
  "metadata": {
    "colab": {
      "provenance": [],
      "gpuType": "T4",
      "include_colab_link": true
    },
    "kernelspec": {
      "name": "python3",
      "display_name": "Python 3"
    },
    "language_info": {
      "name": "python"
    },
    "accelerator": "GPU"
  },
  "cells": [
    {
      "cell_type": "markdown",
      "metadata": {
        "id": "view-in-github",
        "colab_type": "text"
      },
      "source": [
        "<a href=\"https://colab.research.google.com/github/mohamed-ben-lboukht/keystroke/blob/main/keystroke_pass.ipynb\" target=\"_parent\"><img src=\"https://colab.research.google.com/assets/colab-badge.svg\" alt=\"Open In Colab\"/></a>"
      ]
    },
    {
      "cell_type": "markdown",
      "source": [
        "# Import necessary libraries for machine learning, data preprocessing, and evaluation metrics.\n",
        "\n"
      ],
      "metadata": {
        "id": "8QXmK-EnsPFW"
      }
    },
    {
      "cell_type": "code",
      "execution_count": null,
      "metadata": {
        "id": "fJ7cQnI-NSdH"
      },
      "outputs": [],
      "source": [
        "import pandas as pd\n",
        "from sklearn.model_selection import train_test_split\n",
        "from sklearn.preprocessing import LabelEncoder, StandardScaler\n",
        "from tensorflow.keras.models import Model\n",
        "from tensorflow.keras.layers import Input, Dense\n",
        "from tensorflow.keras.optimizers import Adam\n",
        "from sklearn.ensemble import RandomForestClassifier, RandomForestRegressor"
      ]
    },
    {
      "cell_type": "markdown",
      "source": [
        "# Load the preprocessed dataset containing keystroke dynamics features.\n",
        "# This dataset includes extracted features based on users' typing behavior.\n",
        "\n"
      ],
      "metadata": {
        "id": "W2fISLm5sTA7"
      }
    },
    {
      "cell_type": "code",
      "source": [
        "df = pd.read_csv('GREYCNISLAB_NEW4.csv')\n",
        "\n",
        "df = df.drop(columns=[\"User_ID\", \"Password\"])\n",
        "\n",
        "label_encoders = {}\n",
        "for col in [\"Gender\", \"Handedness\"]:\n",
        "    label_encoders[col] = LabelEncoder()\n",
        "    df[col] = label_encoders[col].fit_transform(df[col])\n",
        "\n",
        "X = df.iloc[:, 3:].values\n",
        "y_age = df[\"Age\"].values\n",
        "y_gender = df[\"Gender\"].values\n",
        "y_handedness = df[\"Handedness\"].values\n",
        "\n",
        "\n",
        "scaler = StandardScaler()\n",
        "X = scaler.fit_transform(X)\n",
        "\n",
        "X_train, X_test, y_age_train, y_age_test = train_test_split(X, y_age, test_size=0.2, random_state=42)\n",
        "_, _, y_gender_train, y_gender_test = train_test_split(X, y_gender, test_size=0.2, random_state=42)\n",
        "_, _, y_handedness_train, y_handedness_test = train_test_split(X, y_handedness, test_size=0.2, random_state=42)\n",
        "\n"
      ],
      "metadata": {
        "id": "6zYMC9wRhJ8e"
      },
      "execution_count": null,
      "outputs": []
    },
    {
      "cell_type": "markdown",
      "source": [
        "\n",
        "# Defining a neural network model with a shared architecture.\n",
        "# The model has an input layer and two shared hidden layers across different tasks.\n",
        "# It predicts three outputs: age (regression), gender (binary classification), and handedness (binary classification).\n",
        "\n"
      ],
      "metadata": {
        "id": "y7PBs-mLsWrj"
      }
    },
    {
      "cell_type": "code",
      "source": [
        "\n",
        "input_layer = Input(shape=(X_train.shape[1],))\n",
        "\n",
        "shared = Dense(128, activation=\"relu\")(input_layer)\n",
        "shared = Dense(64, activation=\"relu\")(shared)\n",
        "\n",
        "age_output = Dense(1, activation=\"linear\", name=\"age\")(shared)\n",
        "\n",
        "gender_output = Dense(1, activation=\"sigmoid\", name=\"gender\")(shared)\n",
        "\n",
        "handedness_output = Dense(1, activation=\"sigmoid\", name=\"handedness\")(shared)\n",
        "\n",
        "# Modèle\n",
        "model = Model(inputs=input_layer, outputs=[age_output, gender_output, handedness_output])\n",
        "\n",
        "model.compile(\n",
        "    optimizer=Adam(learning_rate=0.001),\n",
        "    loss={\n",
        "        \"age\": \"mse\",\n",
        "        \"gender\": \"binary_crossentropy\",\n",
        "        \"handedness\": \"binary_crossentropy\",\n",
        "    },\n",
        "    loss_weights={\"age\": 1.0, \"gender\": 0.5, \"handedness\": 0.5},\n",
        "    metrics={\"age\": \"mae\", \"gender\": \"accuracy\", \"handedness\": \"accuracy\"},\n",
        ")\n",
        "\n",
        "model.summary()"
      ],
      "metadata": {
        "colab": {
          "base_uri": "https://localhost:8080/",
          "height": 331
        },
        "id": "wr1QOO_HkjBV",
        "outputId": "b1a7a543-dffc-44dd-8671-b44f0b6c39a4"
      },
      "execution_count": null,
      "outputs": [
        {
          "output_type": "display_data",
          "data": {
            "text/plain": [
              "\u001b[1mModel: \"functional\"\u001b[0m\n"
            ],
            "text/html": [
              "<pre style=\"white-space:pre;overflow-x:auto;line-height:normal;font-family:Menlo,'DejaVu Sans Mono',consolas,'Courier New',monospace\"><span style=\"font-weight: bold\">Model: \"functional\"</span>\n",
              "</pre>\n"
            ]
          },
          "metadata": {}
        },
        {
          "output_type": "display_data",
          "data": {
            "text/plain": [
              "┏━━━━━━━━━━━━━━━━━━━━━━━━━━━┳━━━━━━━━━━━━━━━━━━━━━━━━┳━━━━━━━━━━━━━━━━┳━━━━━━━━━━━━━━━━━━━━━━━━┓\n",
              "┃\u001b[1m \u001b[0m\u001b[1mLayer (type)             \u001b[0m\u001b[1m \u001b[0m┃\u001b[1m \u001b[0m\u001b[1mOutput Shape          \u001b[0m\u001b[1m \u001b[0m┃\u001b[1m \u001b[0m\u001b[1m       Param #\u001b[0m\u001b[1m \u001b[0m┃\u001b[1m \u001b[0m\u001b[1mConnected to          \u001b[0m\u001b[1m \u001b[0m┃\n",
              "┡━━━━━━━━━━━━━━━━━━━━━━━━━━━╇━━━━━━━━━━━━━━━━━━━━━━━━╇━━━━━━━━━━━━━━━━╇━━━━━━━━━━━━━━━━━━━━━━━━┩\n",
              "│ input_layer (\u001b[38;5;33mInputLayer\u001b[0m)  │ (\u001b[38;5;45mNone\u001b[0m, \u001b[38;5;34m65\u001b[0m)             │              \u001b[38;5;34m0\u001b[0m │ -                      │\n",
              "├───────────────────────────┼────────────────────────┼────────────────┼────────────────────────┤\n",
              "│ dense (\u001b[38;5;33mDense\u001b[0m)             │ (\u001b[38;5;45mNone\u001b[0m, \u001b[38;5;34m128\u001b[0m)            │          \u001b[38;5;34m8,448\u001b[0m │ input_layer[\u001b[38;5;34m0\u001b[0m][\u001b[38;5;34m0\u001b[0m]      │\n",
              "├───────────────────────────┼────────────────────────┼────────────────┼────────────────────────┤\n",
              "│ dense_1 (\u001b[38;5;33mDense\u001b[0m)           │ (\u001b[38;5;45mNone\u001b[0m, \u001b[38;5;34m64\u001b[0m)             │          \u001b[38;5;34m8,256\u001b[0m │ dense[\u001b[38;5;34m0\u001b[0m][\u001b[38;5;34m0\u001b[0m]            │\n",
              "├───────────────────────────┼────────────────────────┼────────────────┼────────────────────────┤\n",
              "│ age (\u001b[38;5;33mDense\u001b[0m)               │ (\u001b[38;5;45mNone\u001b[0m, \u001b[38;5;34m1\u001b[0m)              │             \u001b[38;5;34m65\u001b[0m │ dense_1[\u001b[38;5;34m0\u001b[0m][\u001b[38;5;34m0\u001b[0m]          │\n",
              "├───────────────────────────┼────────────────────────┼────────────────┼────────────────────────┤\n",
              "│ gender (\u001b[38;5;33mDense\u001b[0m)            │ (\u001b[38;5;45mNone\u001b[0m, \u001b[38;5;34m1\u001b[0m)              │             \u001b[38;5;34m65\u001b[0m │ dense_1[\u001b[38;5;34m0\u001b[0m][\u001b[38;5;34m0\u001b[0m]          │\n",
              "├───────────────────────────┼────────────────────────┼────────────────┼────────────────────────┤\n",
              "│ handedness (\u001b[38;5;33mDense\u001b[0m)        │ (\u001b[38;5;45mNone\u001b[0m, \u001b[38;5;34m1\u001b[0m)              │             \u001b[38;5;34m65\u001b[0m │ dense_1[\u001b[38;5;34m0\u001b[0m][\u001b[38;5;34m0\u001b[0m]          │\n",
              "└───────────────────────────┴────────────────────────┴────────────────┴────────────────────────┘\n"
            ],
            "text/html": [
              "<pre style=\"white-space:pre;overflow-x:auto;line-height:normal;font-family:Menlo,'DejaVu Sans Mono',consolas,'Courier New',monospace\">┏━━━━━━━━━━━━━━━━━━━━━━━━━━━┳━━━━━━━━━━━━━━━━━━━━━━━━┳━━━━━━━━━━━━━━━━┳━━━━━━━━━━━━━━━━━━━━━━━━┓\n",
              "┃<span style=\"font-weight: bold\"> Layer (type)              </span>┃<span style=\"font-weight: bold\"> Output Shape           </span>┃<span style=\"font-weight: bold\">        Param # </span>┃<span style=\"font-weight: bold\"> Connected to           </span>┃\n",
              "┡━━━━━━━━━━━━━━━━━━━━━━━━━━━╇━━━━━━━━━━━━━━━━━━━━━━━━╇━━━━━━━━━━━━━━━━╇━━━━━━━━━━━━━━━━━━━━━━━━┩\n",
              "│ input_layer (<span style=\"color: #0087ff; text-decoration-color: #0087ff\">InputLayer</span>)  │ (<span style=\"color: #00d7ff; text-decoration-color: #00d7ff\">None</span>, <span style=\"color: #00af00; text-decoration-color: #00af00\">65</span>)             │              <span style=\"color: #00af00; text-decoration-color: #00af00\">0</span> │ -                      │\n",
              "├───────────────────────────┼────────────────────────┼────────────────┼────────────────────────┤\n",
              "│ dense (<span style=\"color: #0087ff; text-decoration-color: #0087ff\">Dense</span>)             │ (<span style=\"color: #00d7ff; text-decoration-color: #00d7ff\">None</span>, <span style=\"color: #00af00; text-decoration-color: #00af00\">128</span>)            │          <span style=\"color: #00af00; text-decoration-color: #00af00\">8,448</span> │ input_layer[<span style=\"color: #00af00; text-decoration-color: #00af00\">0</span>][<span style=\"color: #00af00; text-decoration-color: #00af00\">0</span>]      │\n",
              "├───────────────────────────┼────────────────────────┼────────────────┼────────────────────────┤\n",
              "│ dense_1 (<span style=\"color: #0087ff; text-decoration-color: #0087ff\">Dense</span>)           │ (<span style=\"color: #00d7ff; text-decoration-color: #00d7ff\">None</span>, <span style=\"color: #00af00; text-decoration-color: #00af00\">64</span>)             │          <span style=\"color: #00af00; text-decoration-color: #00af00\">8,256</span> │ dense[<span style=\"color: #00af00; text-decoration-color: #00af00\">0</span>][<span style=\"color: #00af00; text-decoration-color: #00af00\">0</span>]            │\n",
              "├───────────────────────────┼────────────────────────┼────────────────┼────────────────────────┤\n",
              "│ age (<span style=\"color: #0087ff; text-decoration-color: #0087ff\">Dense</span>)               │ (<span style=\"color: #00d7ff; text-decoration-color: #00d7ff\">None</span>, <span style=\"color: #00af00; text-decoration-color: #00af00\">1</span>)              │             <span style=\"color: #00af00; text-decoration-color: #00af00\">65</span> │ dense_1[<span style=\"color: #00af00; text-decoration-color: #00af00\">0</span>][<span style=\"color: #00af00; text-decoration-color: #00af00\">0</span>]          │\n",
              "├───────────────────────────┼────────────────────────┼────────────────┼────────────────────────┤\n",
              "│ gender (<span style=\"color: #0087ff; text-decoration-color: #0087ff\">Dense</span>)            │ (<span style=\"color: #00d7ff; text-decoration-color: #00d7ff\">None</span>, <span style=\"color: #00af00; text-decoration-color: #00af00\">1</span>)              │             <span style=\"color: #00af00; text-decoration-color: #00af00\">65</span> │ dense_1[<span style=\"color: #00af00; text-decoration-color: #00af00\">0</span>][<span style=\"color: #00af00; text-decoration-color: #00af00\">0</span>]          │\n",
              "├───────────────────────────┼────────────────────────┼────────────────┼────────────────────────┤\n",
              "│ handedness (<span style=\"color: #0087ff; text-decoration-color: #0087ff\">Dense</span>)        │ (<span style=\"color: #00d7ff; text-decoration-color: #00d7ff\">None</span>, <span style=\"color: #00af00; text-decoration-color: #00af00\">1</span>)              │             <span style=\"color: #00af00; text-decoration-color: #00af00\">65</span> │ dense_1[<span style=\"color: #00af00; text-decoration-color: #00af00\">0</span>][<span style=\"color: #00af00; text-decoration-color: #00af00\">0</span>]          │\n",
              "└───────────────────────────┴────────────────────────┴────────────────┴────────────────────────┘\n",
              "</pre>\n"
            ]
          },
          "metadata": {}
        },
        {
          "output_type": "display_data",
          "data": {
            "text/plain": [
              "\u001b[1m Total params: \u001b[0m\u001b[38;5;34m16,899\u001b[0m (66.01 KB)\n"
            ],
            "text/html": [
              "<pre style=\"white-space:pre;overflow-x:auto;line-height:normal;font-family:Menlo,'DejaVu Sans Mono',consolas,'Courier New',monospace\"><span style=\"font-weight: bold\"> Total params: </span><span style=\"color: #00af00; text-decoration-color: #00af00\">16,899</span> (66.01 KB)\n",
              "</pre>\n"
            ]
          },
          "metadata": {}
        },
        {
          "output_type": "display_data",
          "data": {
            "text/plain": [
              "\u001b[1m Trainable params: \u001b[0m\u001b[38;5;34m16,899\u001b[0m (66.01 KB)\n"
            ],
            "text/html": [
              "<pre style=\"white-space:pre;overflow-x:auto;line-height:normal;font-family:Menlo,'DejaVu Sans Mono',consolas,'Courier New',monospace\"><span style=\"font-weight: bold\"> Trainable params: </span><span style=\"color: #00af00; text-decoration-color: #00af00\">16,899</span> (66.01 KB)\n",
              "</pre>\n"
            ]
          },
          "metadata": {}
        },
        {
          "output_type": "display_data",
          "data": {
            "text/plain": [
              "\u001b[1m Non-trainable params: \u001b[0m\u001b[38;5;34m0\u001b[0m (0.00 B)\n"
            ],
            "text/html": [
              "<pre style=\"white-space:pre;overflow-x:auto;line-height:normal;font-family:Menlo,'DejaVu Sans Mono',consolas,'Courier New',monospace\"><span style=\"font-weight: bold\"> Non-trainable params: </span><span style=\"color: #00af00; text-decoration-color: #00af00\">0</span> (0.00 B)\n",
              "</pre>\n"
            ]
          },
          "metadata": {}
        }
      ]
    },
    {
      "cell_type": "markdown",
      "source": [
        "# Training the model for 50 epochs with a batch size of 32.\n",
        "# Using training data along with a validation set to monitor performance.\n",
        "# Labels are provided as a dictionary corresponding to the multiple outputs.\n",
        "\n"
      ],
      "metadata": {
        "id": "57_4OwJEsQHQ"
      }
    },
    {
      "cell_type": "code",
      "source": [
        "history = model.fit(\n",
        "    X_train,\n",
        "    {\"age\": y_age_train, \"gender\": y_gender_train, \"handedness\": y_handedness_train ,\"class\":y_class_train},\n",
        "    validation_data=(X_test, {\"age\": y_age_test, \"gender\": y_gender_test, \"handedness\": y_handedness_test,\"class\":y_class_test}),\n",
        "    epochs=50,\n",
        "    batch_size=32,\n",
        ")"
      ],
      "metadata": {
        "colab": {
          "base_uri": "https://localhost:8080/"
        },
        "id": "Fs6_vIQ5ltaH",
        "outputId": "fb0cf1e4-f4c6-4401-bc53-05247ed43c11"
      },
      "execution_count": null,
      "outputs": [
        {
          "output_type": "stream",
          "name": "stdout",
          "text": [
            "Epoch 1/50\n",
            "\u001b[1m55/55\u001b[0m \u001b[32m━━━━━━━━━━━━━━━━━━━━\u001b[0m\u001b[37m\u001b[0m \u001b[1m1s\u001b[0m 14ms/step - age_loss: 7.3667 - age_mae: 1.9476 - gender_accuracy: 0.7487 - gender_loss: 0.5201 - handedness_accuracy: 0.9248 - handedness_loss: 0.1987 - loss: 7.7261 - val_age_loss: 106.4424 - val_age_mae: 7.7859 - val_gender_accuracy: 0.7318 - val_gender_loss: 0.5918 - val_handedness_accuracy: 0.9091 - val_handedness_loss: 0.2616 - val_loss: 107.0253\n",
            "Epoch 2/50\n",
            "\u001b[1m55/55\u001b[0m \u001b[32m━━━━━━━━━━━━━━━━━━━━\u001b[0m\u001b[37m\u001b[0m \u001b[1m1s\u001b[0m 5ms/step - age_loss: 8.7144 - age_mae: 1.9812 - gender_accuracy: 0.7282 - gender_loss: 0.5259 - handedness_accuracy: 0.9278 - handedness_loss: 0.1977 - loss: 9.0763 - val_age_loss: 110.3216 - val_age_mae: 7.8878 - val_gender_accuracy: 0.7250 - val_gender_loss: 0.5939 - val_handedness_accuracy: 0.9023 - val_handedness_loss: 0.2514 - val_loss: 111.0038\n",
            "Epoch 3/50\n",
            "\u001b[1m55/55\u001b[0m \u001b[32m━━━━━━━━━━━━━━━━━━━━\u001b[0m\u001b[37m\u001b[0m \u001b[1m0s\u001b[0m 5ms/step - age_loss: 7.4611 - age_mae: 1.8597 - gender_accuracy: 0.7440 - gender_loss: 0.5280 - handedness_accuracy: 0.9224 - handedness_loss: 0.2107 - loss: 7.8305 - val_age_loss: 112.4245 - val_age_mae: 8.0942 - val_gender_accuracy: 0.7341 - val_gender_loss: 0.5947 - val_handedness_accuracy: 0.9091 - val_handedness_loss: 0.2521 - val_loss: 112.9345\n",
            "Epoch 4/50\n",
            "\u001b[1m55/55\u001b[0m \u001b[32m━━━━━━━━━━━━━━━━━━━━\u001b[0m\u001b[37m\u001b[0m \u001b[1m0s\u001b[0m 5ms/step - age_loss: 10.3123 - age_mae: 2.1707 - gender_accuracy: 0.7599 - gender_loss: 0.5178 - handedness_accuracy: 0.9259 - handedness_loss: 0.1984 - loss: 10.6704 - val_age_loss: 110.4928 - val_age_mae: 7.9235 - val_gender_accuracy: 0.7295 - val_gender_loss: 0.5930 - val_handedness_accuracy: 0.9091 - val_handedness_loss: 0.2622 - val_loss: 111.3946\n",
            "Epoch 5/50\n",
            "\u001b[1m55/55\u001b[0m \u001b[32m━━━━━━━━━━━━━━━━━━━━\u001b[0m\u001b[37m\u001b[0m \u001b[1m0s\u001b[0m 5ms/step - age_loss: 10.7935 - age_mae: 2.3956 - gender_accuracy: 0.7452 - gender_loss: 0.5282 - handedness_accuracy: 0.9311 - handedness_loss: 0.2028 - loss: 11.1590 - val_age_loss: 110.2312 - val_age_mae: 7.8727 - val_gender_accuracy: 0.7227 - val_gender_loss: 0.5933 - val_handedness_accuracy: 0.9091 - val_handedness_loss: 0.2629 - val_loss: 111.2185\n",
            "Epoch 6/50\n",
            "\u001b[1m55/55\u001b[0m \u001b[32m━━━━━━━━━━━━━━━━━━━━\u001b[0m\u001b[37m\u001b[0m \u001b[1m0s\u001b[0m 5ms/step - age_loss: 8.9097 - age_mae: 2.0466 - gender_accuracy: 0.7422 - gender_loss: 0.5317 - handedness_accuracy: 0.9168 - handedness_loss: 0.2284 - loss: 9.2898 - val_age_loss: 109.5333 - val_age_mae: 7.9181 - val_gender_accuracy: 0.7273 - val_gender_loss: 0.5961 - val_handedness_accuracy: 0.9068 - val_handedness_loss: 0.2518 - val_loss: 110.4830\n",
            "Epoch 7/50\n",
            "\u001b[1m55/55\u001b[0m \u001b[32m━━━━━━━━━━━━━━━━━━━━\u001b[0m\u001b[37m\u001b[0m \u001b[1m0s\u001b[0m 5ms/step - age_loss: 7.6068 - age_mae: 1.9938 - gender_accuracy: 0.7356 - gender_loss: 0.5339 - handedness_accuracy: 0.9266 - handedness_loss: 0.2147 - loss: 7.9810 - val_age_loss: 104.2799 - val_age_mae: 7.7181 - val_gender_accuracy: 0.6977 - val_gender_loss: 0.6061 - val_handedness_accuracy: 0.9114 - val_handedness_loss: 0.2496 - val_loss: 105.1558\n",
            "Epoch 8/50\n",
            "\u001b[1m55/55\u001b[0m \u001b[32m━━━━━━━━━━━━━━━━━━━━\u001b[0m\u001b[37m\u001b[0m \u001b[1m0s\u001b[0m 5ms/step - age_loss: 5.4756 - age_mae: 1.7433 - gender_accuracy: 0.7278 - gender_loss: 0.5439 - handedness_accuracy: 0.9332 - handedness_loss: 0.1916 - loss: 5.8433 - val_age_loss: 106.6947 - val_age_mae: 7.8401 - val_gender_accuracy: 0.7386 - val_gender_loss: 0.6078 - val_handedness_accuracy: 0.9068 - val_handedness_loss: 0.2524 - val_loss: 107.4558\n",
            "Epoch 9/50\n",
            "\u001b[1m55/55\u001b[0m \u001b[32m━━━━━━━━━━━━━━━━━━━━\u001b[0m\u001b[37m\u001b[0m \u001b[1m0s\u001b[0m 5ms/step - age_loss: 5.0617 - age_mae: 1.5675 - gender_accuracy: 0.7379 - gender_loss: 0.5456 - handedness_accuracy: 0.9341 - handedness_loss: 0.1991 - loss: 5.4340 - val_age_loss: 105.2276 - val_age_mae: 7.7382 - val_gender_accuracy: 0.7091 - val_gender_loss: 0.5982 - val_handedness_accuracy: 0.9091 - val_handedness_loss: 0.2496 - val_loss: 106.0497\n",
            "Epoch 10/50\n",
            "\u001b[1m55/55\u001b[0m \u001b[32m━━━━━━━━━━━━━━━━━━━━\u001b[0m\u001b[37m\u001b[0m \u001b[1m1s\u001b[0m 5ms/step - age_loss: 4.4071 - age_mae: 1.5043 - gender_accuracy: 0.7494 - gender_loss: 0.5178 - handedness_accuracy: 0.9309 - handedness_loss: 0.1932 - loss: 4.7626 - val_age_loss: 106.5705 - val_age_mae: 7.8105 - val_gender_accuracy: 0.7432 - val_gender_loss: 0.5994 - val_handedness_accuracy: 0.9023 - val_handedness_loss: 0.2550 - val_loss: 107.3664\n",
            "Epoch 11/50\n",
            "\u001b[1m55/55\u001b[0m \u001b[32m━━━━━━━━━━━━━━━━━━━━\u001b[0m\u001b[37m\u001b[0m \u001b[1m0s\u001b[0m 5ms/step - age_loss: 4.7150 - age_mae: 1.5837 - gender_accuracy: 0.7359 - gender_loss: 0.5250 - handedness_accuracy: 0.9339 - handedness_loss: 0.2022 - loss: 5.0786 - val_age_loss: 103.0776 - val_age_mae: 7.6558 - val_gender_accuracy: 0.6886 - val_gender_loss: 0.6210 - val_handedness_accuracy: 0.9091 - val_handedness_loss: 0.2574 - val_loss: 103.9319\n",
            "Epoch 12/50\n",
            "\u001b[1m55/55\u001b[0m \u001b[32m━━━━━━━━━━━━━━━━━━━━\u001b[0m\u001b[37m\u001b[0m \u001b[1m0s\u001b[0m 5ms/step - age_loss: 4.3144 - age_mae: 1.4796 - gender_accuracy: 0.7369 - gender_loss: 0.5364 - handedness_accuracy: 0.9320 - handedness_loss: 0.2026 - loss: 4.6839 - val_age_loss: 106.1998 - val_age_mae: 7.7586 - val_gender_accuracy: 0.7136 - val_gender_loss: 0.6055 - val_handedness_accuracy: 0.9091 - val_handedness_loss: 0.2540 - val_loss: 106.9379\n",
            "Epoch 13/50\n",
            "\u001b[1m55/55\u001b[0m \u001b[32m━━━━━━━━━━━━━━━━━━━━\u001b[0m\u001b[37m\u001b[0m \u001b[1m0s\u001b[0m 5ms/step - age_loss: 4.2713 - age_mae: 1.4925 - gender_accuracy: 0.7524 - gender_loss: 0.5291 - handedness_accuracy: 0.9403 - handedness_loss: 0.1927 - loss: 4.6322 - val_age_loss: 103.0981 - val_age_mae: 7.6000 - val_gender_accuracy: 0.7182 - val_gender_loss: 0.5946 - val_handedness_accuracy: 0.9114 - val_handedness_loss: 0.2515 - val_loss: 103.8639\n",
            "Epoch 14/50\n",
            "\u001b[1m55/55\u001b[0m \u001b[32m━━━━━━━━━━━━━━━━━━━━\u001b[0m\u001b[37m\u001b[0m \u001b[1m0s\u001b[0m 5ms/step - age_loss: 4.9892 - age_mae: 1.6046 - gender_accuracy: 0.7431 - gender_loss: 0.5271 - handedness_accuracy: 0.9182 - handedness_loss: 0.2265 - loss: 5.3661 - val_age_loss: 106.8106 - val_age_mae: 7.8524 - val_gender_accuracy: 0.7409 - val_gender_loss: 0.5997 - val_handedness_accuracy: 0.9091 - val_handedness_loss: 0.2497 - val_loss: 107.7113\n",
            "Epoch 15/50\n",
            "\u001b[1m55/55\u001b[0m \u001b[32m━━━━━━━━━━━━━━━━━━━━\u001b[0m\u001b[37m\u001b[0m \u001b[1m1s\u001b[0m 8ms/step - age_loss: 5.0070 - age_mae: 1.6222 - gender_accuracy: 0.7405 - gender_loss: 0.5363 - handedness_accuracy: 0.9266 - handedness_loss: 0.2035 - loss: 5.3769 - val_age_loss: 107.8582 - val_age_mae: 7.8229 - val_gender_accuracy: 0.7341 - val_gender_loss: 0.5866 - val_handedness_accuracy: 0.9091 - val_handedness_loss: 0.2557 - val_loss: 108.5844\n",
            "Epoch 16/50\n",
            "\u001b[1m55/55\u001b[0m \u001b[32m━━━━━━━━━━━━━━━━━━━━\u001b[0m\u001b[37m\u001b[0m \u001b[1m1s\u001b[0m 8ms/step - age_loss: 6.6638 - age_mae: 1.8576 - gender_accuracy: 0.7483 - gender_loss: 0.5262 - handedness_accuracy: 0.9299 - handedness_loss: 0.1925 - loss: 7.0231 - val_age_loss: 102.3098 - val_age_mae: 7.7039 - val_gender_accuracy: 0.7045 - val_gender_loss: 0.6043 - val_handedness_accuracy: 0.9068 - val_handedness_loss: 0.2533 - val_loss: 103.0222\n",
            "Epoch 17/50\n",
            "\u001b[1m55/55\u001b[0m \u001b[32m━━━━━━━━━━━━━━━━━━━━\u001b[0m\u001b[37m\u001b[0m \u001b[1m1s\u001b[0m 9ms/step - age_loss: 5.7817 - age_mae: 1.7158 - gender_accuracy: 0.7499 - gender_loss: 0.5187 - handedness_accuracy: 0.9272 - handedness_loss: 0.2099 - loss: 6.1460 - val_age_loss: 103.0698 - val_age_mae: 7.6262 - val_gender_accuracy: 0.7159 - val_gender_loss: 0.5941 - val_handedness_accuracy: 0.9114 - val_handedness_loss: 0.2561 - val_loss: 103.8188\n",
            "Epoch 18/50\n",
            "\u001b[1m55/55\u001b[0m \u001b[32m━━━━━━━━━━━━━━━━━━━━\u001b[0m\u001b[37m\u001b[0m \u001b[1m0s\u001b[0m 8ms/step - age_loss: 5.5808 - age_mae: 1.6616 - gender_accuracy: 0.7446 - gender_loss: 0.5221 - handedness_accuracy: 0.9274 - handedness_loss: 0.1917 - loss: 5.9377 - val_age_loss: 103.2558 - val_age_mae: 7.6686 - val_gender_accuracy: 0.7227 - val_gender_loss: 0.5957 - val_handedness_accuracy: 0.9068 - val_handedness_loss: 0.2501 - val_loss: 104.0233\n",
            "Epoch 19/50\n",
            "\u001b[1m55/55\u001b[0m \u001b[32m━━━━━━━━━━━━━━━━━━━━\u001b[0m\u001b[37m\u001b[0m \u001b[1m0s\u001b[0m 5ms/step - age_loss: 4.9307 - age_mae: 1.5626 - gender_accuracy: 0.7292 - gender_loss: 0.5392 - handedness_accuracy: 0.9269 - handedness_loss: 0.2033 - loss: 5.3019 - val_age_loss: 105.3783 - val_age_mae: 7.7296 - val_gender_accuracy: 0.7159 - val_gender_loss: 0.5984 - val_handedness_accuracy: 0.9091 - val_handedness_loss: 0.2541 - val_loss: 106.1076\n",
            "Epoch 20/50\n",
            "\u001b[1m55/55\u001b[0m \u001b[32m━━━━━━━━━━━━━━━━━━━━\u001b[0m\u001b[37m\u001b[0m \u001b[1m0s\u001b[0m 5ms/step - age_loss: 5.5117 - age_mae: 1.6541 - gender_accuracy: 0.7483 - gender_loss: 0.5215 - handedness_accuracy: 0.9223 - handedness_loss: 0.2059 - loss: 5.8753 - val_age_loss: 107.1570 - val_age_mae: 7.8672 - val_gender_accuracy: 0.7250 - val_gender_loss: 0.5907 - val_handedness_accuracy: 0.9000 - val_handedness_loss: 0.2553 - val_loss: 107.9515\n",
            "Epoch 21/50\n",
            "\u001b[1m55/55\u001b[0m \u001b[32m━━━━━━━━━━━━━━━━━━━━\u001b[0m\u001b[37m\u001b[0m \u001b[1m0s\u001b[0m 5ms/step - age_loss: 8.4244 - age_mae: 1.9787 - gender_accuracy: 0.7391 - gender_loss: 0.5306 - handedness_accuracy: 0.9312 - handedness_loss: 0.1990 - loss: 8.7892 - val_age_loss: 104.2227 - val_age_mae: 7.6519 - val_gender_accuracy: 0.7295 - val_gender_loss: 0.5938 - val_handedness_accuracy: 0.9068 - val_handedness_loss: 0.2602 - val_loss: 105.1762\n",
            "Epoch 22/50\n",
            "\u001b[1m55/55\u001b[0m \u001b[32m━━━━━━━━━━━━━━━━━━━━\u001b[0m\u001b[37m\u001b[0m \u001b[1m0s\u001b[0m 5ms/step - age_loss: 9.5022 - age_mae: 2.1190 - gender_accuracy: 0.7441 - gender_loss: 0.5217 - handedness_accuracy: 0.9259 - handedness_loss: 0.1993 - loss: 9.8627 - val_age_loss: 113.2208 - val_age_mae: 7.9442 - val_gender_accuracy: 0.7341 - val_gender_loss: 0.5933 - val_handedness_accuracy: 0.9114 - val_handedness_loss: 0.2474 - val_loss: 114.2365\n",
            "Epoch 23/50\n",
            "\u001b[1m55/55\u001b[0m \u001b[32m━━━━━━━━━━━━━━━━━━━━\u001b[0m\u001b[37m\u001b[0m \u001b[1m0s\u001b[0m 7ms/step - age_loss: 10.4236 - age_mae: 2.2477 - gender_accuracy: 0.7467 - gender_loss: 0.5236 - handedness_accuracy: 0.9229 - handedness_loss: 0.1995 - loss: 10.7851 - val_age_loss: 104.5674 - val_age_mae: 7.7871 - val_gender_accuracy: 0.7250 - val_gender_loss: 0.5898 - val_handedness_accuracy: 0.9091 - val_handedness_loss: 0.2503 - val_loss: 105.2756\n",
            "Epoch 24/50\n",
            "\u001b[1m55/55\u001b[0m \u001b[32m━━━━━━━━━━━━━━━━━━━━\u001b[0m\u001b[37m\u001b[0m \u001b[1m1s\u001b[0m 5ms/step - age_loss: 7.9577 - age_mae: 1.9876 - gender_accuracy: 0.7461 - gender_loss: 0.5332 - handedness_accuracy: 0.9295 - handedness_loss: 0.1873 - loss: 8.3180 - val_age_loss: 106.3762 - val_age_mae: 7.7996 - val_gender_accuracy: 0.7341 - val_gender_loss: 0.5908 - val_handedness_accuracy: 0.9023 - val_handedness_loss: 0.2499 - val_loss: 107.1504\n",
            "Epoch 25/50\n",
            "\u001b[1m55/55\u001b[0m \u001b[32m━━━━━━━━━━━━━━━━━━━━\u001b[0m\u001b[37m\u001b[0m \u001b[1m0s\u001b[0m 5ms/step - age_loss: 13.2314 - age_mae: 2.3105 - gender_accuracy: 0.7393 - gender_loss: 0.5314 - handedness_accuracy: 0.9249 - handedness_loss: 0.2065 - loss: 13.6003 - val_age_loss: 105.9765 - val_age_mae: 7.7432 - val_gender_accuracy: 0.7273 - val_gender_loss: 0.5996 - val_handedness_accuracy: 0.9091 - val_handedness_loss: 0.2573 - val_loss: 106.4166\n",
            "Epoch 26/50\n",
            "\u001b[1m55/55\u001b[0m \u001b[32m━━━━━━━━━━━━━━━━━━━━\u001b[0m\u001b[37m\u001b[0m \u001b[1m0s\u001b[0m 5ms/step - age_loss: 9.3573 - age_mae: 2.1126 - gender_accuracy: 0.7545 - gender_loss: 0.5154 - handedness_accuracy: 0.9338 - handedness_loss: 0.1947 - loss: 9.7123 - val_age_loss: 114.8374 - val_age_mae: 8.2040 - val_gender_accuracy: 0.7318 - val_gender_loss: 0.6012 - val_handedness_accuracy: 0.9068 - val_handedness_loss: 0.2530 - val_loss: 115.7620\n",
            "Epoch 27/50\n",
            "\u001b[1m55/55\u001b[0m \u001b[32m━━━━━━━━━━━━━━━━━━━━\u001b[0m\u001b[37m\u001b[0m \u001b[1m0s\u001b[0m 5ms/step - age_loss: 8.4649 - age_mae: 2.1267 - gender_accuracy: 0.7356 - gender_loss: 0.5264 - handedness_accuracy: 0.9381 - handedness_loss: 0.1795 - loss: 8.8178 - val_age_loss: 111.9645 - val_age_mae: 7.9100 - val_gender_accuracy: 0.7205 - val_gender_loss: 0.5969 - val_handedness_accuracy: 0.9091 - val_handedness_loss: 0.2482 - val_loss: 112.7959\n",
            "Epoch 28/50\n",
            "\u001b[1m55/55\u001b[0m \u001b[32m━━━━━━━━━━━━━━━━━━━━\u001b[0m\u001b[37m\u001b[0m \u001b[1m0s\u001b[0m 5ms/step - age_loss: 6.6182 - age_mae: 1.8820 - gender_accuracy: 0.7530 - gender_loss: 0.5090 - handedness_accuracy: 0.9172 - handedness_loss: 0.2140 - loss: 6.9797 - val_age_loss: 104.1258 - val_age_mae: 7.7203 - val_gender_accuracy: 0.7273 - val_gender_loss: 0.5931 - val_handedness_accuracy: 0.9114 - val_handedness_loss: 0.2544 - val_loss: 104.8842\n",
            "Epoch 29/50\n",
            "\u001b[1m55/55\u001b[0m \u001b[32m━━━━━━━━━━━━━━━━━━━━\u001b[0m\u001b[37m\u001b[0m \u001b[1m1s\u001b[0m 5ms/step - age_loss: 4.6917 - age_mae: 1.5948 - gender_accuracy: 0.7386 - gender_loss: 0.5259 - handedness_accuracy: 0.9140 - handedness_loss: 0.2120 - loss: 5.0606 - val_age_loss: 105.7396 - val_age_mae: 7.7226 - val_gender_accuracy: 0.7409 - val_gender_loss: 0.6056 - val_handedness_accuracy: 0.9091 - val_handedness_loss: 0.2619 - val_loss: 106.5040\n",
            "Epoch 30/50\n",
            "\u001b[1m55/55\u001b[0m \u001b[32m━━━━━━━━━━━━━━━━━━━━\u001b[0m\u001b[37m\u001b[0m \u001b[1m0s\u001b[0m 5ms/step - age_loss: 4.7854 - age_mae: 1.5332 - gender_accuracy: 0.7451 - gender_loss: 0.5222 - handedness_accuracy: 0.9297 - handedness_loss: 0.2106 - loss: 5.1517 - val_age_loss: 106.5839 - val_age_mae: 7.8149 - val_gender_accuracy: 0.7159 - val_gender_loss: 0.6052 - val_handedness_accuracy: 0.9091 - val_handedness_loss: 0.2557 - val_loss: 107.2196\n",
            "Epoch 31/50\n",
            "\u001b[1m55/55\u001b[0m \u001b[32m━━━━━━━━━━━━━━━━━━━━\u001b[0m\u001b[37m\u001b[0m \u001b[1m0s\u001b[0m 5ms/step - age_loss: 4.6187 - age_mae: 1.5550 - gender_accuracy: 0.7417 - gender_loss: 0.5417 - handedness_accuracy: 0.9262 - handedness_loss: 0.1996 - loss: 4.9893 - val_age_loss: 103.1984 - val_age_mae: 7.7713 - val_gender_accuracy: 0.7136 - val_gender_loss: 0.6049 - val_handedness_accuracy: 0.9068 - val_handedness_loss: 0.2491 - val_loss: 103.9057\n",
            "Epoch 32/50\n",
            "\u001b[1m55/55\u001b[0m \u001b[32m━━━━━━━━━━━━━━━━━━━━\u001b[0m\u001b[37m\u001b[0m \u001b[1m1s\u001b[0m 5ms/step - age_loss: 5.0675 - age_mae: 1.6275 - gender_accuracy: 0.7438 - gender_loss: 0.5273 - handedness_accuracy: 0.9381 - handedness_loss: 0.1928 - loss: 5.4276 - val_age_loss: 109.1002 - val_age_mae: 7.8712 - val_gender_accuracy: 0.7295 - val_gender_loss: 0.6022 - val_handedness_accuracy: 0.9045 - val_handedness_loss: 0.2488 - val_loss: 109.7407\n",
            "Epoch 33/50\n",
            "\u001b[1m55/55\u001b[0m \u001b[32m━━━━━━━━━━━━━━━━━━━━\u001b[0m\u001b[37m\u001b[0m \u001b[1m0s\u001b[0m 5ms/step - age_loss: 6.4711 - age_mae: 1.7810 - gender_accuracy: 0.7404 - gender_loss: 0.5322 - handedness_accuracy: 0.9284 - handedness_loss: 0.1992 - loss: 6.8367 - val_age_loss: 109.0332 - val_age_mae: 7.8789 - val_gender_accuracy: 0.7045 - val_gender_loss: 0.6114 - val_handedness_accuracy: 0.9068 - val_handedness_loss: 0.2508 - val_loss: 109.8265\n",
            "Epoch 34/50\n",
            "\u001b[1m55/55\u001b[0m \u001b[32m━━━━━━━━━━━━━━━━━━━━\u001b[0m\u001b[37m\u001b[0m \u001b[1m0s\u001b[0m 5ms/step - age_loss: 6.1060 - age_mae: 1.7552 - gender_accuracy: 0.7663 - gender_loss: 0.5154 - handedness_accuracy: 0.9279 - handedness_loss: 0.2003 - loss: 6.4638 - val_age_loss: 117.5433 - val_age_mae: 8.0173 - val_gender_accuracy: 0.7205 - val_gender_loss: 0.5949 - val_handedness_accuracy: 0.9023 - val_handedness_loss: 0.2472 - val_loss: 117.6702\n",
            "Epoch 35/50\n",
            "\u001b[1m55/55\u001b[0m \u001b[32m━━━━━━━━━━━━━━━━━━━━\u001b[0m\u001b[37m\u001b[0m \u001b[1m0s\u001b[0m 5ms/step - age_loss: 7.6582 - age_mae: 2.0507 - gender_accuracy: 0.7500 - gender_loss: 0.5136 - handedness_accuracy: 0.9306 - handedness_loss: 0.1882 - loss: 8.0091 - val_age_loss: 106.1761 - val_age_mae: 7.7555 - val_gender_accuracy: 0.7341 - val_gender_loss: 0.5974 - val_handedness_accuracy: 0.9045 - val_handedness_loss: 0.2510 - val_loss: 106.7170\n",
            "Epoch 36/50\n",
            "\u001b[1m55/55\u001b[0m \u001b[32m━━━━━━━━━━━━━━━━━━━━\u001b[0m\u001b[37m\u001b[0m \u001b[1m0s\u001b[0m 5ms/step - age_loss: 9.0492 - age_mae: 2.0431 - gender_accuracy: 0.7364 - gender_loss: 0.5447 - handedness_accuracy: 0.9340 - handedness_loss: 0.1995 - loss: 9.4213 - val_age_loss: 109.0078 - val_age_mae: 7.8629 - val_gender_accuracy: 0.7250 - val_gender_loss: 0.5991 - val_handedness_accuracy: 0.9068 - val_handedness_loss: 0.2515 - val_loss: 109.8905\n",
            "Epoch 37/50\n",
            "\u001b[1m55/55\u001b[0m \u001b[32m━━━━━━━━━━━━━━━━━━━━\u001b[0m\u001b[37m\u001b[0m \u001b[1m0s\u001b[0m 5ms/step - age_loss: 6.4820 - age_mae: 1.7640 - gender_accuracy: 0.7646 - gender_loss: 0.5221 - handedness_accuracy: 0.9257 - handedness_loss: 0.2028 - loss: 6.8445 - val_age_loss: 111.1706 - val_age_mae: 7.9426 - val_gender_accuracy: 0.7182 - val_gender_loss: 0.6014 - val_handedness_accuracy: 0.9091 - val_handedness_loss: 0.2501 - val_loss: 112.1048\n",
            "Epoch 38/50\n",
            "\u001b[1m55/55\u001b[0m \u001b[32m━━━━━━━━━━━━━━━━━━━━\u001b[0m\u001b[37m\u001b[0m \u001b[1m1s\u001b[0m 5ms/step - age_loss: 6.9313 - age_mae: 1.8158 - gender_accuracy: 0.7398 - gender_loss: 0.5310 - handedness_accuracy: 0.9353 - handedness_loss: 0.1916 - loss: 7.2926 - val_age_loss: 114.9267 - val_age_mae: 7.9207 - val_gender_accuracy: 0.7409 - val_gender_loss: 0.6027 - val_handedness_accuracy: 0.9068 - val_handedness_loss: 0.2498 - val_loss: 115.2104\n",
            "Epoch 39/50\n",
            "\u001b[1m55/55\u001b[0m \u001b[32m━━━━━━━━━━━━━━━━━━━━\u001b[0m\u001b[37m\u001b[0m \u001b[1m0s\u001b[0m 5ms/step - age_loss: 5.9202 - age_mae: 1.6586 - gender_accuracy: 0.7489 - gender_loss: 0.5257 - handedness_accuracy: 0.9141 - handedness_loss: 0.2068 - loss: 6.2865 - val_age_loss: 108.8305 - val_age_mae: 7.9277 - val_gender_accuracy: 0.7159 - val_gender_loss: 0.5936 - val_handedness_accuracy: 0.9068 - val_handedness_loss: 0.2502 - val_loss: 109.6481\n",
            "Epoch 40/50\n",
            "\u001b[1m55/55\u001b[0m \u001b[32m━━━━━━━━━━━━━━━━━━━━\u001b[0m\u001b[37m\u001b[0m \u001b[1m1s\u001b[0m 5ms/step - age_loss: 5.2841 - age_mae: 1.6070 - gender_accuracy: 0.7389 - gender_loss: 0.5313 - handedness_accuracy: 0.9264 - handedness_loss: 0.2014 - loss: 5.6505 - val_age_loss: 103.6996 - val_age_mae: 7.6710 - val_gender_accuracy: 0.7091 - val_gender_loss: 0.5963 - val_handedness_accuracy: 0.9045 - val_handedness_loss: 0.2531 - val_loss: 104.4260\n",
            "Epoch 41/50\n",
            "\u001b[1m55/55\u001b[0m \u001b[32m━━━━━━━━━━━━━━━━━━━━\u001b[0m\u001b[37m\u001b[0m \u001b[1m0s\u001b[0m 5ms/step - age_loss: 6.9080 - age_mae: 1.8075 - gender_accuracy: 0.7471 - gender_loss: 0.5210 - handedness_accuracy: 0.9301 - handedness_loss: 0.1875 - loss: 7.2623 - val_age_loss: 109.5380 - val_age_mae: 7.8489 - val_gender_accuracy: 0.7091 - val_gender_loss: 0.5982 - val_handedness_accuracy: 0.9091 - val_handedness_loss: 0.2525 - val_loss: 110.0664\n",
            "Epoch 42/50\n",
            "\u001b[1m55/55\u001b[0m \u001b[32m━━━━━━━━━━━━━━━━━━━━\u001b[0m\u001b[37m\u001b[0m \u001b[1m1s\u001b[0m 5ms/step - age_loss: 5.7430 - age_mae: 1.6976 - gender_accuracy: 0.7288 - gender_loss: 0.5534 - handedness_accuracy: 0.9206 - handedness_loss: 0.2058 - loss: 6.1226 - val_age_loss: 107.3790 - val_age_mae: 7.8226 - val_gender_accuracy: 0.6727 - val_gender_loss: 0.6344 - val_handedness_accuracy: 0.9136 - val_handedness_loss: 0.2629 - val_loss: 108.2020\n",
            "Epoch 43/50\n",
            "\u001b[1m55/55\u001b[0m \u001b[32m━━━━━━━━━━━━━━━━━━━━\u001b[0m\u001b[37m\u001b[0m \u001b[1m0s\u001b[0m 5ms/step - age_loss: 5.9363 - age_mae: 1.7136 - gender_accuracy: 0.7288 - gender_loss: 0.5344 - handedness_accuracy: 0.9232 - handedness_loss: 0.2148 - loss: 6.3109 - val_age_loss: 107.3152 - val_age_mae: 7.8215 - val_gender_accuracy: 0.7250 - val_gender_loss: 0.5941 - val_handedness_accuracy: 0.9068 - val_handedness_loss: 0.2498 - val_loss: 108.1810\n",
            "Epoch 44/50\n",
            "\u001b[1m55/55\u001b[0m \u001b[32m━━━━━━━━━━━━━━━━━━━━\u001b[0m\u001b[37m\u001b[0m \u001b[1m0s\u001b[0m 8ms/step - age_loss: 5.7195 - age_mae: 1.7043 - gender_accuracy: 0.7418 - gender_loss: 0.5282 - handedness_accuracy: 0.9246 - handedness_loss: 0.1955 - loss: 6.0814 - val_age_loss: 102.8765 - val_age_mae: 7.6525 - val_gender_accuracy: 0.7114 - val_gender_loss: 0.5931 - val_handedness_accuracy: 0.9091 - val_handedness_loss: 0.2469 - val_loss: 103.6620\n",
            "Epoch 45/50\n",
            "\u001b[1m55/55\u001b[0m \u001b[32m━━━━━━━━━━━━━━━━━━━━\u001b[0m\u001b[37m\u001b[0m \u001b[1m0s\u001b[0m 8ms/step - age_loss: 4.5149 - age_mae: 1.5897 - gender_accuracy: 0.7271 - gender_loss: 0.5396 - handedness_accuracy: 0.9292 - handedness_loss: 0.2107 - loss: 4.8900 - val_age_loss: 108.2262 - val_age_mae: 7.8081 - val_gender_accuracy: 0.7295 - val_gender_loss: 0.5906 - val_handedness_accuracy: 0.9114 - val_handedness_loss: 0.2564 - val_loss: 109.0652\n",
            "Epoch 46/50\n",
            "\u001b[1m55/55\u001b[0m \u001b[32m━━━━━━━━━━━━━━━━━━━━\u001b[0m\u001b[37m\u001b[0m \u001b[1m0s\u001b[0m 7ms/step - age_loss: 4.3412 - age_mae: 1.5015 - gender_accuracy: 0.7379 - gender_loss: 0.5194 - handedness_accuracy: 0.9295 - handedness_loss: 0.1969 - loss: 4.6994 - val_age_loss: 102.8751 - val_age_mae: 7.6523 - val_gender_accuracy: 0.7114 - val_gender_loss: 0.6049 - val_handedness_accuracy: 0.9068 - val_handedness_loss: 0.2485 - val_loss: 103.7252\n",
            "Epoch 47/50\n",
            "\u001b[1m55/55\u001b[0m \u001b[32m━━━━━━━━━━━━━━━━━━━━\u001b[0m\u001b[37m\u001b[0m \u001b[1m1s\u001b[0m 8ms/step - age_loss: 4.5543 - age_mae: 1.5125 - gender_accuracy: 0.7359 - gender_loss: 0.5367 - handedness_accuracy: 0.9163 - handedness_loss: 0.2113 - loss: 4.9283 - val_age_loss: 105.4688 - val_age_mae: 7.7316 - val_gender_accuracy: 0.6773 - val_gender_loss: 0.6205 - val_handedness_accuracy: 0.9068 - val_handedness_loss: 0.2536 - val_loss: 106.3350\n",
            "Epoch 48/50\n",
            "\u001b[1m55/55\u001b[0m \u001b[32m━━━━━━━━━━━━━━━━━━━━\u001b[0m\u001b[37m\u001b[0m \u001b[1m1s\u001b[0m 7ms/step - age_loss: 5.3102 - age_mae: 1.7170 - gender_accuracy: 0.7412 - gender_loss: 0.5215 - handedness_accuracy: 0.9249 - handedness_loss: 0.2108 - loss: 5.6764 - val_age_loss: 119.7647 - val_age_mae: 8.1514 - val_gender_accuracy: 0.7273 - val_gender_loss: 0.5929 - val_handedness_accuracy: 0.9091 - val_handedness_loss: 0.2502 - val_loss: 120.7521\n",
            "Epoch 49/50\n",
            "\u001b[1m55/55\u001b[0m \u001b[32m━━━━━━━━━━━━━━━━━━━━\u001b[0m\u001b[37m\u001b[0m \u001b[1m0s\u001b[0m 5ms/step - age_loss: 7.2214 - age_mae: 1.9397 - gender_accuracy: 0.7399 - gender_loss: 0.5360 - handedness_accuracy: 0.9298 - handedness_loss: 0.1927 - loss: 7.5857 - val_age_loss: 106.5250 - val_age_mae: 7.8135 - val_gender_accuracy: 0.7250 - val_gender_loss: 0.5930 - val_handedness_accuracy: 0.9023 - val_handedness_loss: 0.2584 - val_loss: 107.2918\n",
            "Epoch 50/50\n",
            "\u001b[1m55/55\u001b[0m \u001b[32m━━━━━━━━━━━━━━━━━━━━\u001b[0m\u001b[37m\u001b[0m \u001b[1m1s\u001b[0m 5ms/step - age_loss: 4.9883 - age_mae: 1.6226 - gender_accuracy: 0.7460 - gender_loss: 0.5246 - handedness_accuracy: 0.9340 - handedness_loss: 0.1858 - loss: 5.3435 - val_age_loss: 109.9186 - val_age_mae: 7.8823 - val_gender_accuracy: 0.7273 - val_gender_loss: 0.5991 - val_handedness_accuracy: 0.9068 - val_handedness_loss: 0.2504 - val_loss: 110.6074\n"
          ]
        }
      ]
    },
    {
      "cell_type": "markdown",
      "source": [
        "# Evaluating the model on the test dataset.\n",
        "# Retrieving loss values and accuracy metrics for each output.\n",
        "\n"
      ],
      "metadata": {
        "id": "paJDdxJ7scSe"
      }
    },
    {
      "cell_type": "code",
      "source": [
        "\n",
        "loss, age_loss, gender_loss, handedness_loss, age_mae, gender_acc, handedness_acc = model.evaluate(\n",
        "    X_test,\n",
        "    {\"age\": y_age_test, \"gender\": y_gender_test, \"handedness\": y_handedness_test},\n",
        ")\n",
        "\n",
        "print(f\"MAE pour l'âge : {age_mae}\")\n",
        "print(f\"Précision pour le genre : {gender_acc}\")\n",
        "print(f\"Précision pour handedness : {handedness_acc}\")\n"
      ],
      "metadata": {
        "colab": {
          "base_uri": "https://localhost:8080/"
        },
        "id": "8JTXb5B6l9mc",
        "outputId": "5b1f8540-8c63-4e7a-a752-08cfcbd599be"
      },
      "execution_count": null,
      "outputs": [
        {
          "output_type": "stream",
          "name": "stdout",
          "text": [
            "\u001b[1m14/14\u001b[0m \u001b[32m━━━━━━━━━━━━━━━━━━━━\u001b[0m\u001b[37m\u001b[0m \u001b[1m0s\u001b[0m 5ms/step - age_loss: 111.7044 - age_mae: 8.0133 - gender_accuracy: 0.7217 - gender_loss: 0.6029 - handedness_accuracy: 0.9010 - handedness_loss: 0.2286 - loss: 112.1553 \n",
            "MAE pour l'âge : 7.882318496704102\n",
            "Précision pour le genre : 0.7272727489471436\n",
            "Précision pour handedness : 0.9068182110786438\n"
          ]
        }
      ]
    },
    {
      "cell_type": "markdown",
      "source": [
        "# Adding Dropout layers to prevent overfitting.\n",
        "# This new version of the model includes regularization layers to improve generalization.\n"
      ],
      "metadata": {
        "id": "81zYeDzKs20o"
      }
    },
    {
      "cell_type": "code",
      "source": [
        "from tensorflow.keras.models import Model\n",
        "from tensorflow.keras.layers import Input, Dense, Dropout\n",
        "\n",
        "# Définir l'entrée\n",
        "input_layer = Input(shape=(X_train.shape[1],), name=\"input\")\n",
        "\n",
        "# Couche partagée\n",
        "shared = Dense(256, activation='relu')(input_layer)\n",
        "shared = Dropout(0.2)(shared)\n",
        "shared = Dense(128, activation='relu')(shared)\n",
        "shared = Dropout(0.2)(shared)\n",
        "shared = Dense(64, activation='relu')(shared)\n",
        "\n",
        "age_output = Dense(1, activation='linear', name='age')(shared)\n",
        "gender_output = Dense(1, activation='sigmoid', name='gender')(shared)\n",
        "handedness_output = Dense(1, activation='sigmoid', name='handedness')(shared)\n",
        "\n",
        "model = Model(inputs=input_layer, outputs=[age_output, gender_output, handedness_output])\n",
        "\n",
        "model.compile(\n",
        "    optimizer='adam',\n",
        "    loss={\n",
        "        'age': 'mse',\n",
        "        'gender': 'binary_crossentropy',\n",
        "        'handedness': 'binary_crossentropy',\n",
        "    },\n",
        "    loss_weights={\n",
        "        'age': 1.0,\n",
        "        'gender': 0.5,\n",
        "        'handedness': 0.5,\n",
        "    },\n",
        "    metrics={\n",
        "        'age': 'mae',\n",
        "        'gender': 'accuracy',\n",
        "        'handedness': 'accuracy',\n",
        "    }\n",
        ")\n",
        "\n",
        "model.summary()\n"
      ],
      "metadata": {
        "colab": {
          "base_uri": "https://localhost:8080/",
          "height": 430
        },
        "id": "KWn35J74n3hT",
        "outputId": "a50dcc42-fc72-4ce5-999a-fdf598ea7dc2"
      },
      "execution_count": null,
      "outputs": [
        {
          "output_type": "display_data",
          "data": {
            "text/plain": [
              "\u001b[1mModel: \"functional_2\"\u001b[0m\n"
            ],
            "text/html": [
              "<pre style=\"white-space:pre;overflow-x:auto;line-height:normal;font-family:Menlo,'DejaVu Sans Mono',consolas,'Courier New',monospace\"><span style=\"font-weight: bold\">Model: \"functional_2\"</span>\n",
              "</pre>\n"
            ]
          },
          "metadata": {}
        },
        {
          "output_type": "display_data",
          "data": {
            "text/plain": [
              "┏━━━━━━━━━━━━━━━━━━━━━━━━━━━┳━━━━━━━━━━━━━━━━━━━━━━━━┳━━━━━━━━━━━━━━━━┳━━━━━━━━━━━━━━━━━━━━━━━━┓\n",
              "┃\u001b[1m \u001b[0m\u001b[1mLayer (type)             \u001b[0m\u001b[1m \u001b[0m┃\u001b[1m \u001b[0m\u001b[1mOutput Shape          \u001b[0m\u001b[1m \u001b[0m┃\u001b[1m \u001b[0m\u001b[1m       Param #\u001b[0m\u001b[1m \u001b[0m┃\u001b[1m \u001b[0m\u001b[1mConnected to          \u001b[0m\u001b[1m \u001b[0m┃\n",
              "┡━━━━━━━━━━━━━━━━━━━━━━━━━━━╇━━━━━━━━━━━━━━━━━━━━━━━━╇━━━━━━━━━━━━━━━━╇━━━━━━━━━━━━━━━━━━━━━━━━┩\n",
              "│ input (\u001b[38;5;33mInputLayer\u001b[0m)        │ (\u001b[38;5;45mNone\u001b[0m, \u001b[38;5;34m65\u001b[0m)             │              \u001b[38;5;34m0\u001b[0m │ -                      │\n",
              "├───────────────────────────┼────────────────────────┼────────────────┼────────────────────────┤\n",
              "│ dense_5 (\u001b[38;5;33mDense\u001b[0m)           │ (\u001b[38;5;45mNone\u001b[0m, \u001b[38;5;34m256\u001b[0m)            │         \u001b[38;5;34m16,896\u001b[0m │ input[\u001b[38;5;34m0\u001b[0m][\u001b[38;5;34m0\u001b[0m]            │\n",
              "├───────────────────────────┼────────────────────────┼────────────────┼────────────────────────┤\n",
              "│ dropout_2 (\u001b[38;5;33mDropout\u001b[0m)       │ (\u001b[38;5;45mNone\u001b[0m, \u001b[38;5;34m256\u001b[0m)            │              \u001b[38;5;34m0\u001b[0m │ dense_5[\u001b[38;5;34m0\u001b[0m][\u001b[38;5;34m0\u001b[0m]          │\n",
              "├───────────────────────────┼────────────────────────┼────────────────┼────────────────────────┤\n",
              "│ dense_6 (\u001b[38;5;33mDense\u001b[0m)           │ (\u001b[38;5;45mNone\u001b[0m, \u001b[38;5;34m128\u001b[0m)            │         \u001b[38;5;34m32,896\u001b[0m │ dropout_2[\u001b[38;5;34m0\u001b[0m][\u001b[38;5;34m0\u001b[0m]        │\n",
              "├───────────────────────────┼────────────────────────┼────────────────┼────────────────────────┤\n",
              "│ dropout_3 (\u001b[38;5;33mDropout\u001b[0m)       │ (\u001b[38;5;45mNone\u001b[0m, \u001b[38;5;34m128\u001b[0m)            │              \u001b[38;5;34m0\u001b[0m │ dense_6[\u001b[38;5;34m0\u001b[0m][\u001b[38;5;34m0\u001b[0m]          │\n",
              "├───────────────────────────┼────────────────────────┼────────────────┼────────────────────────┤\n",
              "│ dense_7 (\u001b[38;5;33mDense\u001b[0m)           │ (\u001b[38;5;45mNone\u001b[0m, \u001b[38;5;34m64\u001b[0m)             │          \u001b[38;5;34m8,256\u001b[0m │ dropout_3[\u001b[38;5;34m0\u001b[0m][\u001b[38;5;34m0\u001b[0m]        │\n",
              "├───────────────────────────┼────────────────────────┼────────────────┼────────────────────────┤\n",
              "│ age (\u001b[38;5;33mDense\u001b[0m)               │ (\u001b[38;5;45mNone\u001b[0m, \u001b[38;5;34m1\u001b[0m)              │             \u001b[38;5;34m65\u001b[0m │ dense_7[\u001b[38;5;34m0\u001b[0m][\u001b[38;5;34m0\u001b[0m]          │\n",
              "├───────────────────────────┼────────────────────────┼────────────────┼────────────────────────┤\n",
              "│ gender (\u001b[38;5;33mDense\u001b[0m)            │ (\u001b[38;5;45mNone\u001b[0m, \u001b[38;5;34m1\u001b[0m)              │             \u001b[38;5;34m65\u001b[0m │ dense_7[\u001b[38;5;34m0\u001b[0m][\u001b[38;5;34m0\u001b[0m]          │\n",
              "├───────────────────────────┼────────────────────────┼────────────────┼────────────────────────┤\n",
              "│ handedness (\u001b[38;5;33mDense\u001b[0m)        │ (\u001b[38;5;45mNone\u001b[0m, \u001b[38;5;34m1\u001b[0m)              │             \u001b[38;5;34m65\u001b[0m │ dense_7[\u001b[38;5;34m0\u001b[0m][\u001b[38;5;34m0\u001b[0m]          │\n",
              "└───────────────────────────┴────────────────────────┴────────────────┴────────────────────────┘\n"
            ],
            "text/html": [
              "<pre style=\"white-space:pre;overflow-x:auto;line-height:normal;font-family:Menlo,'DejaVu Sans Mono',consolas,'Courier New',monospace\">┏━━━━━━━━━━━━━━━━━━━━━━━━━━━┳━━━━━━━━━━━━━━━━━━━━━━━━┳━━━━━━━━━━━━━━━━┳━━━━━━━━━━━━━━━━━━━━━━━━┓\n",
              "┃<span style=\"font-weight: bold\"> Layer (type)              </span>┃<span style=\"font-weight: bold\"> Output Shape           </span>┃<span style=\"font-weight: bold\">        Param # </span>┃<span style=\"font-weight: bold\"> Connected to           </span>┃\n",
              "┡━━━━━━━━━━━━━━━━━━━━━━━━━━━╇━━━━━━━━━━━━━━━━━━━━━━━━╇━━━━━━━━━━━━━━━━╇━━━━━━━━━━━━━━━━━━━━━━━━┩\n",
              "│ input (<span style=\"color: #0087ff; text-decoration-color: #0087ff\">InputLayer</span>)        │ (<span style=\"color: #00d7ff; text-decoration-color: #00d7ff\">None</span>, <span style=\"color: #00af00; text-decoration-color: #00af00\">65</span>)             │              <span style=\"color: #00af00; text-decoration-color: #00af00\">0</span> │ -                      │\n",
              "├───────────────────────────┼────────────────────────┼────────────────┼────────────────────────┤\n",
              "│ dense_5 (<span style=\"color: #0087ff; text-decoration-color: #0087ff\">Dense</span>)           │ (<span style=\"color: #00d7ff; text-decoration-color: #00d7ff\">None</span>, <span style=\"color: #00af00; text-decoration-color: #00af00\">256</span>)            │         <span style=\"color: #00af00; text-decoration-color: #00af00\">16,896</span> │ input[<span style=\"color: #00af00; text-decoration-color: #00af00\">0</span>][<span style=\"color: #00af00; text-decoration-color: #00af00\">0</span>]            │\n",
              "├───────────────────────────┼────────────────────────┼────────────────┼────────────────────────┤\n",
              "│ dropout_2 (<span style=\"color: #0087ff; text-decoration-color: #0087ff\">Dropout</span>)       │ (<span style=\"color: #00d7ff; text-decoration-color: #00d7ff\">None</span>, <span style=\"color: #00af00; text-decoration-color: #00af00\">256</span>)            │              <span style=\"color: #00af00; text-decoration-color: #00af00\">0</span> │ dense_5[<span style=\"color: #00af00; text-decoration-color: #00af00\">0</span>][<span style=\"color: #00af00; text-decoration-color: #00af00\">0</span>]          │\n",
              "├───────────────────────────┼────────────────────────┼────────────────┼────────────────────────┤\n",
              "│ dense_6 (<span style=\"color: #0087ff; text-decoration-color: #0087ff\">Dense</span>)           │ (<span style=\"color: #00d7ff; text-decoration-color: #00d7ff\">None</span>, <span style=\"color: #00af00; text-decoration-color: #00af00\">128</span>)            │         <span style=\"color: #00af00; text-decoration-color: #00af00\">32,896</span> │ dropout_2[<span style=\"color: #00af00; text-decoration-color: #00af00\">0</span>][<span style=\"color: #00af00; text-decoration-color: #00af00\">0</span>]        │\n",
              "├───────────────────────────┼────────────────────────┼────────────────┼────────────────────────┤\n",
              "│ dropout_3 (<span style=\"color: #0087ff; text-decoration-color: #0087ff\">Dropout</span>)       │ (<span style=\"color: #00d7ff; text-decoration-color: #00d7ff\">None</span>, <span style=\"color: #00af00; text-decoration-color: #00af00\">128</span>)            │              <span style=\"color: #00af00; text-decoration-color: #00af00\">0</span> │ dense_6[<span style=\"color: #00af00; text-decoration-color: #00af00\">0</span>][<span style=\"color: #00af00; text-decoration-color: #00af00\">0</span>]          │\n",
              "├───────────────────────────┼────────────────────────┼────────────────┼────────────────────────┤\n",
              "│ dense_7 (<span style=\"color: #0087ff; text-decoration-color: #0087ff\">Dense</span>)           │ (<span style=\"color: #00d7ff; text-decoration-color: #00d7ff\">None</span>, <span style=\"color: #00af00; text-decoration-color: #00af00\">64</span>)             │          <span style=\"color: #00af00; text-decoration-color: #00af00\">8,256</span> │ dropout_3[<span style=\"color: #00af00; text-decoration-color: #00af00\">0</span>][<span style=\"color: #00af00; text-decoration-color: #00af00\">0</span>]        │\n",
              "├───────────────────────────┼────────────────────────┼────────────────┼────────────────────────┤\n",
              "│ age (<span style=\"color: #0087ff; text-decoration-color: #0087ff\">Dense</span>)               │ (<span style=\"color: #00d7ff; text-decoration-color: #00d7ff\">None</span>, <span style=\"color: #00af00; text-decoration-color: #00af00\">1</span>)              │             <span style=\"color: #00af00; text-decoration-color: #00af00\">65</span> │ dense_7[<span style=\"color: #00af00; text-decoration-color: #00af00\">0</span>][<span style=\"color: #00af00; text-decoration-color: #00af00\">0</span>]          │\n",
              "├───────────────────────────┼────────────────────────┼────────────────┼────────────────────────┤\n",
              "│ gender (<span style=\"color: #0087ff; text-decoration-color: #0087ff\">Dense</span>)            │ (<span style=\"color: #00d7ff; text-decoration-color: #00d7ff\">None</span>, <span style=\"color: #00af00; text-decoration-color: #00af00\">1</span>)              │             <span style=\"color: #00af00; text-decoration-color: #00af00\">65</span> │ dense_7[<span style=\"color: #00af00; text-decoration-color: #00af00\">0</span>][<span style=\"color: #00af00; text-decoration-color: #00af00\">0</span>]          │\n",
              "├───────────────────────────┼────────────────────────┼────────────────┼────────────────────────┤\n",
              "│ handedness (<span style=\"color: #0087ff; text-decoration-color: #0087ff\">Dense</span>)        │ (<span style=\"color: #00d7ff; text-decoration-color: #00d7ff\">None</span>, <span style=\"color: #00af00; text-decoration-color: #00af00\">1</span>)              │             <span style=\"color: #00af00; text-decoration-color: #00af00\">65</span> │ dense_7[<span style=\"color: #00af00; text-decoration-color: #00af00\">0</span>][<span style=\"color: #00af00; text-decoration-color: #00af00\">0</span>]          │\n",
              "└───────────────────────────┴────────────────────────┴────────────────┴────────────────────────┘\n",
              "</pre>\n"
            ]
          },
          "metadata": {}
        },
        {
          "output_type": "display_data",
          "data": {
            "text/plain": [
              "\u001b[1m Total params: \u001b[0m\u001b[38;5;34m58,243\u001b[0m (227.51 KB)\n"
            ],
            "text/html": [
              "<pre style=\"white-space:pre;overflow-x:auto;line-height:normal;font-family:Menlo,'DejaVu Sans Mono',consolas,'Courier New',monospace\"><span style=\"font-weight: bold\"> Total params: </span><span style=\"color: #00af00; text-decoration-color: #00af00\">58,243</span> (227.51 KB)\n",
              "</pre>\n"
            ]
          },
          "metadata": {}
        },
        {
          "output_type": "display_data",
          "data": {
            "text/plain": [
              "\u001b[1m Trainable params: \u001b[0m\u001b[38;5;34m58,243\u001b[0m (227.51 KB)\n"
            ],
            "text/html": [
              "<pre style=\"white-space:pre;overflow-x:auto;line-height:normal;font-family:Menlo,'DejaVu Sans Mono',consolas,'Courier New',monospace\"><span style=\"font-weight: bold\"> Trainable params: </span><span style=\"color: #00af00; text-decoration-color: #00af00\">58,243</span> (227.51 KB)\n",
              "</pre>\n"
            ]
          },
          "metadata": {}
        },
        {
          "output_type": "display_data",
          "data": {
            "text/plain": [
              "\u001b[1m Non-trainable params: \u001b[0m\u001b[38;5;34m0\u001b[0m (0.00 B)\n"
            ],
            "text/html": [
              "<pre style=\"white-space:pre;overflow-x:auto;line-height:normal;font-family:Menlo,'DejaVu Sans Mono',consolas,'Courier New',monospace\"><span style=\"font-weight: bold\"> Non-trainable params: </span><span style=\"color: #00af00; text-decoration-color: #00af00\">0</span> (0.00 B)\n",
              "</pre>\n"
            ]
          },
          "metadata": {}
        }
      ]
    },
    {
      "cell_type": "markdown",
      "source": [
        "# Retraining the model after adding Dropout layers.\n",
        "# Keeping the same training parameters to compare performance differences.\n"
      ],
      "metadata": {
        "id": "SmwD5PsOs7Te"
      }
    },
    {
      "cell_type": "code",
      "source": [
        "history = model.fit(\n",
        "    X_train,\n",
        "    {\n",
        "        'age': y_age_train,\n",
        "        'gender': y_gender_train,\n",
        "        'handedness': y_handedness_train,\n",
        "    },\n",
        "    validation_data=(\n",
        "        X_test,\n",
        "        {\n",
        "            'age': y_age_test,\n",
        "            'gender': y_gender_test,\n",
        "            'handedness': y_handedness_test,\n",
        "        }\n",
        "    ),\n",
        "    epochs=50,\n",
        "    batch_size=32\n",
        ")\n"
      ],
      "metadata": {
        "colab": {
          "base_uri": "https://localhost:8080/"
        },
        "id": "RNXTb2DWoGVr",
        "outputId": "740c98fb-6ada-49b9-bfa4-33d8fecb8731"
      },
      "execution_count": null,
      "outputs": [
        {
          "output_type": "stream",
          "name": "stdout",
          "text": [
            "Epoch 1/50\n",
            "\u001b[1m55/55\u001b[0m \u001b[32m━━━━━━━━━━━━━━━━━━━━\u001b[0m\u001b[37m\u001b[0m \u001b[1m6s\u001b[0m 24ms/step - age_loss: 785.9744 - age_mae: 24.9855 - gender_accuracy: 0.3293 - gender_loss: 1.3512 - handedness_accuracy: 0.3139 - handedness_loss: 0.8897 - loss: 787.0948 - val_age_loss: 287.0922 - val_age_mae: 11.5305 - val_gender_accuracy: 0.7364 - val_gender_loss: 0.6932 - val_handedness_accuracy: 0.8932 - val_handedness_loss: 0.3627 - val_loss: 288.1781\n",
            "Epoch 2/50\n",
            "\u001b[1m55/55\u001b[0m \u001b[32m━━━━━━━━━━━━━━━━━━━━\u001b[0m\u001b[37m\u001b[0m \u001b[1m0s\u001b[0m 5ms/step - age_loss: 266.4133 - age_mae: 12.0482 - gender_accuracy: 0.6683 - gender_loss: 0.7784 - handedness_accuracy: 0.8860 - handedness_loss: 0.4150 - loss: 267.0099 - val_age_loss: 223.3013 - val_age_mae: 10.0408 - val_gender_accuracy: 0.6909 - val_gender_loss: 0.6364 - val_handedness_accuracy: 0.8909 - val_handedness_loss: 0.3404 - val_loss: 224.0950\n",
            "Epoch 3/50\n",
            "\u001b[1m55/55\u001b[0m \u001b[32m━━━━━━━━━━━━━━━━━━━━\u001b[0m\u001b[37m\u001b[0m \u001b[1m1s\u001b[0m 8ms/step - age_loss: 193.4554 - age_mae: 10.3855 - gender_accuracy: 0.6168 - gender_loss: 0.7441 - handedness_accuracy: 0.8685 - handedness_loss: 0.4224 - loss: 194.0387 - val_age_loss: 187.1747 - val_age_mae: 9.5138 - val_gender_accuracy: 0.6727 - val_gender_loss: 0.6362 - val_handedness_accuracy: 0.8932 - val_handedness_loss: 0.3527 - val_loss: 188.4144\n",
            "Epoch 4/50\n",
            "\u001b[1m55/55\u001b[0m \u001b[32m━━━━━━━━━━━━━━━━━━━━\u001b[0m\u001b[37m\u001b[0m \u001b[1m1s\u001b[0m 9ms/step - age_loss: 163.4735 - age_mae: 9.6335 - gender_accuracy: 0.6284 - gender_loss: 0.7321 - handedness_accuracy: 0.8789 - handedness_loss: 0.4138 - loss: 164.0464 - val_age_loss: 167.2673 - val_age_mae: 9.2795 - val_gender_accuracy: 0.6886 - val_gender_loss: 0.6253 - val_handedness_accuracy: 0.8909 - val_handedness_loss: 0.3435 - val_loss: 168.8803\n",
            "Epoch 5/50\n",
            "\u001b[1m55/55\u001b[0m \u001b[32m━━━━━━━━━━━━━━━━━━━━\u001b[0m\u001b[37m\u001b[0m \u001b[1m1s\u001b[0m 9ms/step - age_loss: 158.1317 - age_mae: 9.2773 - gender_accuracy: 0.6470 - gender_loss: 0.7081 - handedness_accuracy: 0.8805 - handedness_loss: 0.4119 - loss: 158.6918 - val_age_loss: 148.4803 - val_age_mae: 8.6566 - val_gender_accuracy: 0.7227 - val_gender_loss: 0.6183 - val_handedness_accuracy: 0.8932 - val_handedness_loss: 0.3575 - val_loss: 149.9702\n",
            "Epoch 6/50\n",
            "\u001b[1m55/55\u001b[0m \u001b[32m━━━━━━━━━━━━━━━━━━━━\u001b[0m\u001b[37m\u001b[0m \u001b[1m0s\u001b[0m 7ms/step - age_loss: 128.4362 - age_mae: 8.5437 - gender_accuracy: 0.6525 - gender_loss: 0.7260 - handedness_accuracy: 0.8920 - handedness_loss: 0.3680 - loss: 128.9832 - val_age_loss: 140.7326 - val_age_mae: 8.3932 - val_gender_accuracy: 0.7273 - val_gender_loss: 0.6062 - val_handedness_accuracy: 0.8932 - val_handedness_loss: 0.3397 - val_loss: 142.0777\n",
            "Epoch 7/50\n",
            "\u001b[1m55/55\u001b[0m \u001b[32m━━━━━━━━━━━━━━━━━━━━\u001b[0m\u001b[37m\u001b[0m \u001b[1m0s\u001b[0m 5ms/step - age_loss: 123.8162 - age_mae: 8.4169 - gender_accuracy: 0.6628 - gender_loss: 0.6831 - handedness_accuracy: 0.8776 - handedness_loss: 0.3836 - loss: 124.3495 - val_age_loss: 127.0502 - val_age_mae: 8.2972 - val_gender_accuracy: 0.7250 - val_gender_loss: 0.6046 - val_handedness_accuracy: 0.8932 - val_handedness_loss: 0.3330 - val_loss: 128.2178\n",
            "Epoch 8/50\n",
            "\u001b[1m55/55\u001b[0m \u001b[32m━━━━━━━━━━━━━━━━━━━━\u001b[0m\u001b[37m\u001b[0m \u001b[1m0s\u001b[0m 5ms/step - age_loss: 100.2448 - age_mae: 7.6019 - gender_accuracy: 0.6367 - gender_loss: 0.7165 - handedness_accuracy: 0.8847 - handedness_loss: 0.3733 - loss: 100.7896 - val_age_loss: 117.7502 - val_age_mae: 7.8635 - val_gender_accuracy: 0.7068 - val_gender_loss: 0.6167 - val_handedness_accuracy: 0.8932 - val_handedness_loss: 0.3356 - val_loss: 118.8715\n",
            "Epoch 9/50\n",
            "\u001b[1m55/55\u001b[0m \u001b[32m━━━━━━━━━━━━━━━━━━━━\u001b[0m\u001b[37m\u001b[0m \u001b[1m0s\u001b[0m 5ms/step - age_loss: 97.1517 - age_mae: 7.5958 - gender_accuracy: 0.6235 - gender_loss: 0.6800 - handedness_accuracy: 0.8597 - handedness_loss: 0.4177 - loss: 97.7006 - val_age_loss: 102.5361 - val_age_mae: 7.4606 - val_gender_accuracy: 0.7341 - val_gender_loss: 0.5928 - val_handedness_accuracy: 0.8932 - val_handedness_loss: 0.3377 - val_loss: 103.5601\n",
            "Epoch 10/50\n",
            "\u001b[1m55/55\u001b[0m \u001b[32m━━━━━━━━━━━━━━━━━━━━\u001b[0m\u001b[37m\u001b[0m \u001b[1m0s\u001b[0m 5ms/step - age_loss: 98.0460 - age_mae: 7.5330 - gender_accuracy: 0.6589 - gender_loss: 0.6690 - handedness_accuracy: 0.8889 - handedness_loss: 0.3485 - loss: 98.5548 - val_age_loss: 105.7569 - val_age_mae: 7.5617 - val_gender_accuracy: 0.7318 - val_gender_loss: 0.5955 - val_handedness_accuracy: 0.8932 - val_handedness_loss: 0.3313 - val_loss: 106.9372\n",
            "Epoch 11/50\n",
            "\u001b[1m55/55\u001b[0m \u001b[32m━━━━━━━━━━━━━━━━━━━━\u001b[0m\u001b[37m\u001b[0m \u001b[1m0s\u001b[0m 5ms/step - age_loss: 92.6885 - age_mae: 7.4371 - gender_accuracy: 0.6467 - gender_loss: 0.6759 - handedness_accuracy: 0.8872 - handedness_loss: 0.3784 - loss: 93.2156 - val_age_loss: 88.9697 - val_age_mae: 7.1794 - val_gender_accuracy: 0.7341 - val_gender_loss: 0.5895 - val_handedness_accuracy: 0.8932 - val_handedness_loss: 0.3273 - val_loss: 89.9226\n",
            "Epoch 12/50\n",
            "\u001b[1m55/55\u001b[0m \u001b[32m━━━━━━━━━━━━━━━━━━━━\u001b[0m\u001b[37m\u001b[0m \u001b[1m0s\u001b[0m 7ms/step - age_loss: 84.1505 - age_mae: 7.1340 - gender_accuracy: 0.6686 - gender_loss: 0.6600 - handedness_accuracy: 0.8783 - handedness_loss: 0.3637 - loss: 84.6623 - val_age_loss: 89.2426 - val_age_mae: 7.3382 - val_gender_accuracy: 0.7364 - val_gender_loss: 0.6013 - val_handedness_accuracy: 0.8932 - val_handedness_loss: 0.3339 - val_loss: 90.0972\n",
            "Epoch 13/50\n",
            "\u001b[1m55/55\u001b[0m \u001b[32m━━━━━━━━━━━━━━━━━━━━\u001b[0m\u001b[37m\u001b[0m \u001b[1m0s\u001b[0m 5ms/step - age_loss: 91.2266 - age_mae: 7.2835 - gender_accuracy: 0.6752 - gender_loss: 0.6626 - handedness_accuracy: 0.9083 - handedness_loss: 0.3076 - loss: 91.7118 - val_age_loss: 85.6942 - val_age_mae: 6.9985 - val_gender_accuracy: 0.7364 - val_gender_loss: 0.6050 - val_handedness_accuracy: 0.8932 - val_handedness_loss: 0.3172 - val_loss: 86.6327\n",
            "Epoch 14/50\n",
            "\u001b[1m55/55\u001b[0m \u001b[32m━━━━━━━━━━━━━━━━━━━━\u001b[0m\u001b[37m\u001b[0m \u001b[1m0s\u001b[0m 5ms/step - age_loss: 90.1489 - age_mae: 7.4192 - gender_accuracy: 0.6462 - gender_loss: 0.6591 - handedness_accuracy: 0.8774 - handedness_loss: 0.3751 - loss: 90.6660 - val_age_loss: 92.1251 - val_age_mae: 7.3112 - val_gender_accuracy: 0.7364 - val_gender_loss: 0.5997 - val_handedness_accuracy: 0.8932 - val_handedness_loss: 0.3172 - val_loss: 93.1296\n",
            "Epoch 15/50\n",
            "\u001b[1m55/55\u001b[0m \u001b[32m━━━━━━━━━━━━━━━━━━━━\u001b[0m\u001b[37m\u001b[0m \u001b[1m0s\u001b[0m 7ms/step - age_loss: 79.7270 - age_mae: 6.9567 - gender_accuracy: 0.6714 - gender_loss: 0.6431 - handedness_accuracy: 0.8850 - handedness_loss: 0.3536 - loss: 80.2254 - val_age_loss: 90.3316 - val_age_mae: 7.1647 - val_gender_accuracy: 0.7364 - val_gender_loss: 0.5910 - val_handedness_accuracy: 0.8932 - val_handedness_loss: 0.3276 - val_loss: 91.2440\n",
            "Epoch 16/50\n",
            "\u001b[1m55/55\u001b[0m \u001b[32m━━━━━━━━━━━━━━━━━━━━\u001b[0m\u001b[37m\u001b[0m \u001b[1m1s\u001b[0m 5ms/step - age_loss: 79.6813 - age_mae: 6.9830 - gender_accuracy: 0.6771 - gender_loss: 0.6296 - handedness_accuracy: 0.8927 - handedness_loss: 0.3537 - loss: 80.1729 - val_age_loss: 91.2457 - val_age_mae: 7.2456 - val_gender_accuracy: 0.7341 - val_gender_loss: 0.6056 - val_handedness_accuracy: 0.8932 - val_handedness_loss: 0.3175 - val_loss: 92.1664\n",
            "Epoch 17/50\n",
            "\u001b[1m55/55\u001b[0m \u001b[32m━━━━━━━━━━━━━━━━━━━━\u001b[0m\u001b[37m\u001b[0m \u001b[1m0s\u001b[0m 5ms/step - age_loss: 78.4211 - age_mae: 6.8405 - gender_accuracy: 0.6679 - gender_loss: 0.6502 - handedness_accuracy: 0.8939 - handedness_loss: 0.3322 - loss: 78.9122 - val_age_loss: 85.1946 - val_age_mae: 6.8379 - val_gender_accuracy: 0.7364 - val_gender_loss: 0.5909 - val_handedness_accuracy: 0.8932 - val_handedness_loss: 0.3182 - val_loss: 86.0913\n",
            "Epoch 18/50\n",
            "\u001b[1m55/55\u001b[0m \u001b[32m━━━━━━━━━━━━━━━━━━━━\u001b[0m\u001b[37m\u001b[0m \u001b[1m1s\u001b[0m 5ms/step - age_loss: 71.4386 - age_mae: 6.7351 - gender_accuracy: 0.6864 - gender_loss: 0.6623 - handedness_accuracy: 0.8933 - handedness_loss: 0.3447 - loss: 71.9421 - val_age_loss: 92.0237 - val_age_mae: 7.0252 - val_gender_accuracy: 0.7364 - val_gender_loss: 0.5917 - val_handedness_accuracy: 0.8932 - val_handedness_loss: 0.3232 - val_loss: 92.8030\n",
            "Epoch 19/50\n",
            "\u001b[1m55/55\u001b[0m \u001b[32m━━━━━━━━━━━━━━━━━━━━\u001b[0m\u001b[37m\u001b[0m \u001b[1m0s\u001b[0m 5ms/step - age_loss: 75.4088 - age_mae: 6.7655 - gender_accuracy: 0.6745 - gender_loss: 0.6465 - handedness_accuracy: 0.8857 - handedness_loss: 0.3620 - loss: 75.9130 - val_age_loss: 79.1224 - val_age_mae: 6.6771 - val_gender_accuracy: 0.7364 - val_gender_loss: 0.5948 - val_handedness_accuracy: 0.8932 - val_handedness_loss: 0.3182 - val_loss: 80.0194\n",
            "Epoch 20/50\n",
            "\u001b[1m55/55\u001b[0m \u001b[32m━━━━━━━━━━━━━━━━━━━━\u001b[0m\u001b[37m\u001b[0m \u001b[1m0s\u001b[0m 5ms/step - age_loss: 74.8514 - age_mae: 6.7778 - gender_accuracy: 0.6659 - gender_loss: 0.6533 - handedness_accuracy: 0.8956 - handedness_loss: 0.3370 - loss: 75.3466 - val_age_loss: 83.7112 - val_age_mae: 7.0493 - val_gender_accuracy: 0.7364 - val_gender_loss: 0.6022 - val_handedness_accuracy: 0.8932 - val_handedness_loss: 0.3082 - val_loss: 84.5994\n",
            "Epoch 21/50\n",
            "\u001b[1m55/55\u001b[0m \u001b[32m━━━━━━━━━━━━━━━━━━━━\u001b[0m\u001b[37m\u001b[0m \u001b[1m1s\u001b[0m 5ms/step - age_loss: 74.3575 - age_mae: 6.8751 - gender_accuracy: 0.6691 - gender_loss: 0.6538 - handedness_accuracy: 0.8984 - handedness_loss: 0.3377 - loss: 74.8533 - val_age_loss: 88.0687 - val_age_mae: 7.3071 - val_gender_accuracy: 0.7364 - val_gender_loss: 0.5847 - val_handedness_accuracy: 0.8932 - val_handedness_loss: 0.3157 - val_loss: 88.8186\n",
            "Epoch 22/50\n",
            "\u001b[1m55/55\u001b[0m \u001b[32m━━━━━━━━━━━━━━━━━━━━\u001b[0m\u001b[37m\u001b[0m \u001b[1m0s\u001b[0m 5ms/step - age_loss: 69.5393 - age_mae: 6.4439 - gender_accuracy: 0.6912 - gender_loss: 0.6352 - handedness_accuracy: 0.8833 - handedness_loss: 0.3660 - loss: 70.0399 - val_age_loss: 87.2196 - val_age_mae: 6.8516 - val_gender_accuracy: 0.7364 - val_gender_loss: 0.5872 - val_handedness_accuracy: 0.8932 - val_handedness_loss: 0.3140 - val_loss: 87.9321\n",
            "Epoch 23/50\n",
            "\u001b[1m55/55\u001b[0m \u001b[32m━━━━━━━━━━━━━━━━━━━━\u001b[0m\u001b[37m\u001b[0m \u001b[1m1s\u001b[0m 5ms/step - age_loss: 73.3048 - age_mae: 6.6430 - gender_accuracy: 0.6788 - gender_loss: 0.6430 - handedness_accuracy: 0.8982 - handedness_loss: 0.3270 - loss: 73.7898 - val_age_loss: 75.9736 - val_age_mae: 6.6133 - val_gender_accuracy: 0.7364 - val_gender_loss: 0.5846 - val_handedness_accuracy: 0.8932 - val_handedness_loss: 0.3104 - val_loss: 76.6805\n",
            "Epoch 24/50\n",
            "\u001b[1m55/55\u001b[0m \u001b[32m━━━━━━━━━━━━━━━━━━━━\u001b[0m\u001b[37m\u001b[0m \u001b[1m0s\u001b[0m 5ms/step - age_loss: 70.1727 - age_mae: 6.5791 - gender_accuracy: 0.6853 - gender_loss: 0.6205 - handedness_accuracy: 0.8943 - handedness_loss: 0.3398 - loss: 70.6528 - val_age_loss: 77.3569 - val_age_mae: 6.7519 - val_gender_accuracy: 0.7364 - val_gender_loss: 0.5825 - val_handedness_accuracy: 0.8932 - val_handedness_loss: 0.3089 - val_loss: 78.0419\n",
            "Epoch 25/50\n",
            "\u001b[1m55/55\u001b[0m \u001b[32m━━━━━━━━━━━━━━━━━━━━\u001b[0m\u001b[37m\u001b[0m \u001b[1m1s\u001b[0m 5ms/step - age_loss: 73.5108 - age_mae: 6.6759 - gender_accuracy: 0.7021 - gender_loss: 0.6194 - handedness_accuracy: 0.8895 - handedness_loss: 0.3512 - loss: 73.9961 - val_age_loss: 75.5743 - val_age_mae: 6.6570 - val_gender_accuracy: 0.7364 - val_gender_loss: 0.6028 - val_handedness_accuracy: 0.8932 - val_handedness_loss: 0.3106 - val_loss: 76.2847\n",
            "Epoch 26/50\n",
            "\u001b[1m55/55\u001b[0m \u001b[32m━━━━━━━━━━━━━━━━━━━━\u001b[0m\u001b[37m\u001b[0m \u001b[1m0s\u001b[0m 5ms/step - age_loss: 67.0723 - age_mae: 6.3673 - gender_accuracy: 0.6553 - gender_loss: 0.6472 - handedness_accuracy: 0.8818 - handedness_loss: 0.3570 - loss: 67.5744 - val_age_loss: 78.5234 - val_age_mae: 6.6721 - val_gender_accuracy: 0.7364 - val_gender_loss: 0.5920 - val_handedness_accuracy: 0.8932 - val_handedness_loss: 0.3065 - val_loss: 79.3527\n",
            "Epoch 27/50\n",
            "\u001b[1m55/55\u001b[0m \u001b[32m━━━━━━━━━━━━━━━━━━━━\u001b[0m\u001b[37m\u001b[0m \u001b[1m0s\u001b[0m 5ms/step - age_loss: 73.4734 - age_mae: 6.6723 - gender_accuracy: 0.6604 - gender_loss: 0.6545 - handedness_accuracy: 0.8851 - handedness_loss: 0.3508 - loss: 73.9760 - val_age_loss: 86.0264 - val_age_mae: 7.0941 - val_gender_accuracy: 0.7364 - val_gender_loss: 0.6066 - val_handedness_accuracy: 0.8932 - val_handedness_loss: 0.3159 - val_loss: 86.9884\n",
            "Epoch 28/50\n",
            "\u001b[1m55/55\u001b[0m \u001b[32m━━━━━━━━━━━━━━━━━━━━\u001b[0m\u001b[37m\u001b[0m \u001b[1m0s\u001b[0m 5ms/step - age_loss: 65.1303 - age_mae: 6.2479 - gender_accuracy: 0.6844 - gender_loss: 0.6455 - handedness_accuracy: 0.8806 - handedness_loss: 0.3539 - loss: 65.6300 - val_age_loss: 76.8069 - val_age_mae: 6.8805 - val_gender_accuracy: 0.7341 - val_gender_loss: 0.6096 - val_handedness_accuracy: 0.8932 - val_handedness_loss: 0.3120 - val_loss: 77.6193\n",
            "Epoch 29/50\n",
            "\u001b[1m55/55\u001b[0m \u001b[32m━━━━━━━━━━━━━━━━━━━━\u001b[0m\u001b[37m\u001b[0m \u001b[1m0s\u001b[0m 5ms/step - age_loss: 70.0651 - age_mae: 6.4954 - gender_accuracy: 0.6850 - gender_loss: 0.6404 - handedness_accuracy: 0.8854 - handedness_loss: 0.3469 - loss: 70.5587 - val_age_loss: 80.6351 - val_age_mae: 6.7395 - val_gender_accuracy: 0.7364 - val_gender_loss: 0.5872 - val_handedness_accuracy: 0.8932 - val_handedness_loss: 0.3095 - val_loss: 81.4411\n",
            "Epoch 30/50\n",
            "\u001b[1m55/55\u001b[0m \u001b[32m━━━━━━━━━━━━━━━━━━━━\u001b[0m\u001b[37m\u001b[0m \u001b[1m0s\u001b[0m 5ms/step - age_loss: 64.7762 - age_mae: 6.2232 - gender_accuracy: 0.7044 - gender_loss: 0.6232 - handedness_accuracy: 0.8921 - handedness_loss: 0.3325 - loss: 65.2540 - val_age_loss: 75.9199 - val_age_mae: 6.5700 - val_gender_accuracy: 0.7364 - val_gender_loss: 0.5878 - val_handedness_accuracy: 0.8932 - val_handedness_loss: 0.3100 - val_loss: 76.6645\n",
            "Epoch 31/50\n",
            "\u001b[1m55/55\u001b[0m \u001b[32m━━━━━━━━━━━━━━━━━━━━\u001b[0m\u001b[37m\u001b[0m \u001b[1m0s\u001b[0m 5ms/step - age_loss: 64.9392 - age_mae: 6.1894 - gender_accuracy: 0.6994 - gender_loss: 0.6257 - handedness_accuracy: 0.8870 - handedness_loss: 0.3332 - loss: 65.4187 - val_age_loss: 74.7757 - val_age_mae: 6.5256 - val_gender_accuracy: 0.7364 - val_gender_loss: 0.5881 - val_handedness_accuracy: 0.8932 - val_handedness_loss: 0.3024 - val_loss: 75.5349\n",
            "Epoch 32/50\n",
            "\u001b[1m55/55\u001b[0m \u001b[32m━━━━━━━━━━━━━━━━━━━━\u001b[0m\u001b[37m\u001b[0m \u001b[1m0s\u001b[0m 7ms/step - age_loss: 65.7347 - age_mae: 6.3359 - gender_accuracy: 0.6913 - gender_loss: 0.6185 - handedness_accuracy: 0.8877 - handedness_loss: 0.3456 - loss: 66.2168 - val_age_loss: 76.9671 - val_age_mae: 6.7196 - val_gender_accuracy: 0.7364 - val_gender_loss: 0.5893 - val_handedness_accuracy: 0.8932 - val_handedness_loss: 0.2994 - val_loss: 77.8270\n",
            "Epoch 33/50\n",
            "\u001b[1m55/55\u001b[0m \u001b[32m━━━━━━━━━━━━━━━━━━━━\u001b[0m\u001b[37m\u001b[0m \u001b[1m1s\u001b[0m 9ms/step - age_loss: 64.2273 - age_mae: 6.3265 - gender_accuracy: 0.6720 - gender_loss: 0.6482 - handedness_accuracy: 0.8993 - handedness_loss: 0.3231 - loss: 64.7130 - val_age_loss: 76.7995 - val_age_mae: 6.6062 - val_gender_accuracy: 0.7364 - val_gender_loss: 0.5833 - val_handedness_accuracy: 0.8932 - val_handedness_loss: 0.3012 - val_loss: 77.6277\n",
            "Epoch 34/50\n",
            "\u001b[1m55/55\u001b[0m \u001b[32m━━━━━━━━━━━━━━━━━━━━\u001b[0m\u001b[37m\u001b[0m \u001b[1m0s\u001b[0m 7ms/step - age_loss: 66.2654 - age_mae: 6.3072 - gender_accuracy: 0.6922 - gender_loss: 0.6265 - handedness_accuracy: 0.8860 - handedness_loss: 0.3416 - loss: 66.7494 - val_age_loss: 83.5403 - val_age_mae: 6.7766 - val_gender_accuracy: 0.7364 - val_gender_loss: 0.5806 - val_handedness_accuracy: 0.8932 - val_handedness_loss: 0.2966 - val_loss: 84.4917\n",
            "Epoch 35/50\n",
            "\u001b[1m55/55\u001b[0m \u001b[32m━━━━━━━━━━━━━━━━━━━━\u001b[0m\u001b[37m\u001b[0m \u001b[1m1s\u001b[0m 9ms/step - age_loss: 62.4571 - age_mae: 6.2267 - gender_accuracy: 0.6903 - gender_loss: 0.6253 - handedness_accuracy: 0.8818 - handedness_loss: 0.3508 - loss: 62.9451 - val_age_loss: 78.0786 - val_age_mae: 6.6080 - val_gender_accuracy: 0.7364 - val_gender_loss: 0.5805 - val_handedness_accuracy: 0.8955 - val_handedness_loss: 0.3085 - val_loss: 78.8874\n",
            "Epoch 36/50\n",
            "\u001b[1m55/55\u001b[0m \u001b[32m━━━━━━━━━━━━━━━━━━━━\u001b[0m\u001b[37m\u001b[0m \u001b[1m1s\u001b[0m 8ms/step - age_loss: 65.8258 - age_mae: 6.4127 - gender_accuracy: 0.6774 - gender_loss: 0.6353 - handedness_accuracy: 0.8922 - handedness_loss: 0.3325 - loss: 66.3097 - val_age_loss: 79.6985 - val_age_mae: 6.6898 - val_gender_accuracy: 0.7364 - val_gender_loss: 0.5765 - val_handedness_accuracy: 0.8932 - val_handedness_loss: 0.3077 - val_loss: 80.6244\n",
            "Epoch 37/50\n",
            "\u001b[1m55/55\u001b[0m \u001b[32m━━━━━━━━━━━━━━━━━━━━\u001b[0m\u001b[37m\u001b[0m \u001b[1m0s\u001b[0m 5ms/step - age_loss: 64.5396 - age_mae: 6.1944 - gender_accuracy: 0.6896 - gender_loss: 0.6384 - handedness_accuracy: 0.8989 - handedness_loss: 0.3074 - loss: 65.0125 - val_age_loss: 78.5618 - val_age_mae: 6.7231 - val_gender_accuracy: 0.7364 - val_gender_loss: 0.5849 - val_handedness_accuracy: 0.8932 - val_handedness_loss: 0.3058 - val_loss: 79.5104\n",
            "Epoch 38/50\n",
            "\u001b[1m55/55\u001b[0m \u001b[32m━━━━━━━━━━━━━━━━━━━━\u001b[0m\u001b[37m\u001b[0m \u001b[1m0s\u001b[0m 5ms/step - age_loss: 65.4009 - age_mae: 6.3852 - gender_accuracy: 0.6886 - gender_loss: 0.6427 - handedness_accuracy: 0.8835 - handedness_loss: 0.3374 - loss: 65.8909 - val_age_loss: 84.3473 - val_age_mae: 6.9889 - val_gender_accuracy: 0.7341 - val_gender_loss: 0.5951 - val_handedness_accuracy: 0.8932 - val_handedness_loss: 0.3074 - val_loss: 85.3290\n",
            "Epoch 39/50\n",
            "\u001b[1m55/55\u001b[0m \u001b[32m━━━━━━━━━━━━━━━━━━━━\u001b[0m\u001b[37m\u001b[0m \u001b[1m0s\u001b[0m 5ms/step - age_loss: 63.1737 - age_mae: 6.1560 - gender_accuracy: 0.6942 - gender_loss: 0.6182 - handedness_accuracy: 0.8832 - handedness_loss: 0.3438 - loss: 63.6547 - val_age_loss: 81.0712 - val_age_mae: 6.7307 - val_gender_accuracy: 0.7364 - val_gender_loss: 0.5798 - val_handedness_accuracy: 0.8932 - val_handedness_loss: 0.3124 - val_loss: 81.7285\n",
            "Epoch 40/50\n",
            "\u001b[1m55/55\u001b[0m \u001b[32m━━━━━━━━━━━━━━━━━━━━\u001b[0m\u001b[37m\u001b[0m \u001b[1m0s\u001b[0m 5ms/step - age_loss: 58.2634 - age_mae: 5.9994 - gender_accuracy: 0.7057 - gender_loss: 0.6149 - handedness_accuracy: 0.8968 - handedness_loss: 0.3336 - loss: 58.7376 - val_age_loss: 78.8098 - val_age_mae: 6.5782 - val_gender_accuracy: 0.7364 - val_gender_loss: 0.5749 - val_handedness_accuracy: 0.8932 - val_handedness_loss: 0.3123 - val_loss: 79.5565\n",
            "Epoch 41/50\n",
            "\u001b[1m55/55\u001b[0m \u001b[32m━━━━━━━━━━━━━━━━━━━━\u001b[0m\u001b[37m\u001b[0m \u001b[1m1s\u001b[0m 5ms/step - age_loss: 57.9851 - age_mae: 6.0107 - gender_accuracy: 0.6966 - gender_loss: 0.6142 - handedness_accuracy: 0.8955 - handedness_loss: 0.3278 - loss: 58.4562 - val_age_loss: 83.1890 - val_age_mae: 6.7934 - val_gender_accuracy: 0.7364 - val_gender_loss: 0.5767 - val_handedness_accuracy: 0.8932 - val_handedness_loss: 0.3044 - val_loss: 84.1534\n",
            "Epoch 42/50\n",
            "\u001b[1m55/55\u001b[0m \u001b[32m━━━━━━━━━━━━━━━━━━━━\u001b[0m\u001b[37m\u001b[0m \u001b[1m0s\u001b[0m 5ms/step - age_loss: 60.4460 - age_mae: 6.1487 - gender_accuracy: 0.6609 - gender_loss: 0.6420 - handedness_accuracy: 0.8889 - handedness_loss: 0.3325 - loss: 60.9333 - val_age_loss: 76.2648 - val_age_mae: 6.6678 - val_gender_accuracy: 0.7364 - val_gender_loss: 0.5723 - val_handedness_accuracy: 0.8932 - val_handedness_loss: 0.3120 - val_loss: 77.0140\n",
            "Epoch 43/50\n",
            "\u001b[1m55/55\u001b[0m \u001b[32m━━━━━━━━━━━━━━━━━━━━\u001b[0m\u001b[37m\u001b[0m \u001b[1m1s\u001b[0m 5ms/step - age_loss: 63.1462 - age_mae: 6.2546 - gender_accuracy: 0.6902 - gender_loss: 0.6297 - handedness_accuracy: 0.8871 - handedness_loss: 0.3361 - loss: 63.6291 - val_age_loss: 80.1943 - val_age_mae: 6.5286 - val_gender_accuracy: 0.7364 - val_gender_loss: 0.5802 - val_handedness_accuracy: 0.8932 - val_handedness_loss: 0.3086 - val_loss: 80.9805\n",
            "Epoch 44/50\n",
            "\u001b[1m55/55\u001b[0m \u001b[32m━━━━━━━━━━━━━━━━━━━━\u001b[0m\u001b[37m\u001b[0m \u001b[1m1s\u001b[0m 5ms/step - age_loss: 59.1506 - age_mae: 5.9930 - gender_accuracy: 0.7105 - gender_loss: 0.6111 - handedness_accuracy: 0.9057 - handedness_loss: 0.3077 - loss: 59.6100 - val_age_loss: 76.7272 - val_age_mae: 6.5656 - val_gender_accuracy: 0.7364 - val_gender_loss: 0.5774 - val_handedness_accuracy: 0.8932 - val_handedness_loss: 0.3040 - val_loss: 77.6137\n",
            "Epoch 45/50\n",
            "\u001b[1m55/55\u001b[0m \u001b[32m━━━━━━━━━━━━━━━━━━━━\u001b[0m\u001b[37m\u001b[0m \u001b[1m0s\u001b[0m 5ms/step - age_loss: 57.5679 - age_mae: 5.9175 - gender_accuracy: 0.7031 - gender_loss: 0.6131 - handedness_accuracy: 0.8908 - handedness_loss: 0.3313 - loss: 58.0401 - val_age_loss: 76.9662 - val_age_mae: 6.4608 - val_gender_accuracy: 0.7364 - val_gender_loss: 0.5824 - val_handedness_accuracy: 0.8932 - val_handedness_loss: 0.3035 - val_loss: 77.7364\n",
            "Epoch 46/50\n",
            "\u001b[1m55/55\u001b[0m \u001b[32m━━━━━━━━━━━━━━━━━━━━\u001b[0m\u001b[37m\u001b[0m \u001b[1m0s\u001b[0m 5ms/step - age_loss: 58.7907 - age_mae: 5.9308 - gender_accuracy: 0.6958 - gender_loss: 0.6151 - handedness_accuracy: 0.8793 - handedness_loss: 0.3634 - loss: 59.2800 - val_age_loss: 85.1029 - val_age_mae: 6.8359 - val_gender_accuracy: 0.7364 - val_gender_loss: 0.5761 - val_handedness_accuracy: 0.8932 - val_handedness_loss: 0.3020 - val_loss: 86.1019\n",
            "Epoch 47/50\n",
            "\u001b[1m55/55\u001b[0m \u001b[32m━━━━━━━━━━━━━━━━━━━━\u001b[0m\u001b[37m\u001b[0m \u001b[1m0s\u001b[0m 5ms/step - age_loss: 61.9550 - age_mae: 6.1120 - gender_accuracy: 0.7062 - gender_loss: 0.6207 - handedness_accuracy: 0.8806 - handedness_loss: 0.3477 - loss: 62.4391 - val_age_loss: 76.9523 - val_age_mae: 6.4900 - val_gender_accuracy: 0.7364 - val_gender_loss: 0.5788 - val_handedness_accuracy: 0.8932 - val_handedness_loss: 0.3054 - val_loss: 77.7913\n",
            "Epoch 48/50\n",
            "\u001b[1m55/55\u001b[0m \u001b[32m━━━━━━━━━━━━━━━━━━━━\u001b[0m\u001b[37m\u001b[0m \u001b[1m1s\u001b[0m 5ms/step - age_loss: 58.2501 - age_mae: 5.9411 - gender_accuracy: 0.6967 - gender_loss: 0.6179 - handedness_accuracy: 0.8933 - handedness_loss: 0.3199 - loss: 58.7190 - val_age_loss: 79.0141 - val_age_mae: 6.5263 - val_gender_accuracy: 0.7364 - val_gender_loss: 0.5860 - val_handedness_accuracy: 0.8932 - val_handedness_loss: 0.3030 - val_loss: 79.8844\n",
            "Epoch 49/50\n",
            "\u001b[1m55/55\u001b[0m \u001b[32m━━━━━━━━━━━━━━━━━━━━\u001b[0m\u001b[37m\u001b[0m \u001b[1m0s\u001b[0m 5ms/step - age_loss: 57.0449 - age_mae: 5.8240 - gender_accuracy: 0.6927 - gender_loss: 0.6306 - handedness_accuracy: 0.8859 - handedness_loss: 0.3353 - loss: 57.5279 - val_age_loss: 77.9636 - val_age_mae: 6.5420 - val_gender_accuracy: 0.7364 - val_gender_loss: 0.5988 - val_handedness_accuracy: 0.8932 - val_handedness_loss: 0.3023 - val_loss: 78.7487\n",
            "Epoch 50/50\n",
            "\u001b[1m55/55\u001b[0m \u001b[32m━━━━━━━━━━━━━━━━━━━━\u001b[0m\u001b[37m\u001b[0m \u001b[1m0s\u001b[0m 5ms/step - age_loss: 57.2894 - age_mae: 5.8147 - gender_accuracy: 0.6788 - gender_loss: 0.6255 - handedness_accuracy: 0.8928 - handedness_loss: 0.3206 - loss: 57.7625 - val_age_loss: 75.1379 - val_age_mae: 6.5030 - val_gender_accuracy: 0.7364 - val_gender_loss: 0.5910 - val_handedness_accuracy: 0.8932 - val_handedness_loss: 0.3027 - val_loss: 75.7539\n"
          ]
        }
      ]
    },
    {
      "cell_type": "markdown",
      "source": [
        "# Evaluating the model's performance after adding Dropout.\n",
        "# Checking if regularization improves generalization on test data.\n"
      ],
      "metadata": {
        "id": "QldG4iIvs_rc"
      }
    },
    {
      "cell_type": "code",
      "source": [
        "# Évaluer les performances sur le jeu de test\n",
        "loss, age_loss, gender_loss, handedness_loss, age_mae, gender_acc, handedness_acc = model.evaluate(\n",
        "    X_test,\n",
        "    {\"age\": y_age_test, \"gender\": y_gender_test, \"handedness\": y_handedness_test},\n",
        ")\n",
        "\n",
        "print(f\"MAE pour l'âge : {age_mae}\")\n",
        "print(f\"Précision pour le genre : {gender_acc}\")\n",
        "print(f\"Précision pour handedness : {handedness_acc}\")\n"
      ],
      "metadata": {
        "colab": {
          "base_uri": "https://localhost:8080/"
        },
        "id": "zNggotqhoXpy",
        "outputId": "de949670-5a07-44eb-a29b-3133f61163cf"
      },
      "execution_count": null,
      "outputs": [
        {
          "output_type": "stream",
          "name": "stdout",
          "text": [
            "\u001b[1m14/14\u001b[0m \u001b[32m━━━━━━━━━━━━━━━━━━━━\u001b[0m\u001b[37m\u001b[0m \u001b[1m0s\u001b[0m 3ms/step - age_loss: 86.0497 - age_mae: 6.7676 - gender_accuracy: 0.7340 - gender_loss: 0.2909 - handedness_accuracy: 0.8932 - handedness_loss: 0.1484 - loss: 86.5472   \n",
            "MAE pour l'âge : 6.617171764373779\n",
            "Précision pour le genre : 0.7340909242630005\n",
            "Précision pour handedness : 0.8931818008422852\n"
          ]
        }
      ]
    },
    {
      "cell_type": "markdown",
      "source": [
        "# Comparing performance with traditional Machine Learning models (Random Forest and Decision Tree).\n",
        "# Separate models are trained for each task (age, gender, and handedness).\n",
        "# Accuracy is measured for classification tasks, and Mean Absolute Error (MAE) for age prediction.\n"
      ],
      "metadata": {
        "id": "avm2CJvitIFE"
      }
    },
    {
      "cell_type": "code",
      "source": [
        "from sklearn.tree import DecisionTreeClassifier, DecisionTreeRegressor\n",
        "from sklearn.model_selection import train_test_split\n",
        "from sklearn.metrics import accuracy_score, mean_absolute_error\n",
        "\n",
        "X_train, X_test, y_age_train, y_age_test = train_test_split(X, y_age, test_size=0.2, random_state=42)\n",
        "_, _, y_gender_train, y_gender_test = train_test_split(X, y_gender, test_size=0.2, random_state=42)\n",
        "_, _, y_handedness_train, y_handedness_test = train_test_split(X, y_handedness, test_size=0.2, random_state=42)\n",
        "\n",
        "clf_gender = RandomForestClassifier(n_estimators=100, max_depth=4, random_state=42)\n",
        "clf_gender.fit(X_train, y_gender_train)\n",
        "y_gender_pred = clf_gender.predict(X_test)\n",
        "accuracy_gender = accuracy_score(y_gender_test, y_gender_pred)\n",
        "print(f\"Accuracy for Gender (Decision Tree): {accuracy_gender:.2f}\")\n",
        "\n",
        "clf_handedness = RandomForestClassifier(n_estimators=100, max_depth=4, random_state=42)\n",
        "clf_handedness.fit(X_train, y_handedness_train)\n",
        "y_handedness_pred = clf_handedness.predict(X_test)\n",
        "accuracy_handedness = accuracy_score(y_handedness_test, y_handedness_pred)\n",
        "print(f\"Accuracy for Handedness (Decision Tree): {accuracy_handedness:.2f}\")\n",
        "\n",
        "reg_age = RandomForestRegressor(n_estimators=100, max_depth=5, random_state=42)\n",
        "reg_age.fit(X_train, y_age_train)\n",
        "y_age_pred = reg_age.predict(X_test)\n",
        "mae_age = mean_absolute_error(y_age_test, y_age_pred)\n",
        "print(f\"Mean Absolute Error for Age (Decision Tree): {mae_age:.2f}\")\n"
      ],
      "metadata": {
        "colab": {
          "base_uri": "https://localhost:8080/"
        },
        "id": "tsoaEk9rqNUY",
        "outputId": "1ec46714-48b8-4353-866d-59f519866afd"
      },
      "execution_count": null,
      "outputs": [
        {
          "output_type": "stream",
          "name": "stdout",
          "text": [
            "Accuracy for Gender (Decision Tree): 0.75\n",
            "Accuracy for Handedness (Decision Tree): 0.91\n",
            "Mean Absolute Error for Age (Decision Tree): 6.58\n"
          ]
        }
      ]
    },
    {
      "cell_type": "code",
      "source": [],
      "metadata": {
        "id": "G4MFwXgynYi8"
      },
      "execution_count": null,
      "outputs": []
    },
    {
      "cell_type": "code",
      "source": [],
      "metadata": {
        "id": "0aid5nn2qhGV"
      },
      "execution_count": null,
      "outputs": []
    }
  ]
}